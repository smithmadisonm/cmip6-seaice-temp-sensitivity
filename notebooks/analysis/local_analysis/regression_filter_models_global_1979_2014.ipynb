{
 "cells": [
  {
   "cell_type": "markdown",
   "metadata": {},
   "source": [
    "# Filtered regression models1979-2014\n",
    "\n",
    "# I think we'll use 8 year high and low pass filters. Should mean ENSO is high freq but everything longer is low freq.\n",
    "\n",
    "# Should we just be filtering temperature and not sea ice? Don't think so."
   ]
  },
  {
   "cell_type": "code",
   "execution_count": null,
   "metadata": {},
   "outputs": [],
   "source": []
  },
  {
   "cell_type": "markdown",
   "metadata": {},
   "source": [
    "### NEXT DO REGRESSING MONTHS 1-9 ON SEPT SIE. ALSO DIFFERENT MODELS. ALSO MAPS"
   ]
  },
  {
   "cell_type": "code",
   "execution_count": null,
   "metadata": {},
   "outputs": [],
   "source": []
  },
  {
   "cell_type": "code",
   "execution_count": null,
   "metadata": {},
   "outputs": [],
   "source": []
  },
  {
   "cell_type": "code",
   "execution_count": null,
   "metadata": {},
   "outputs": [],
   "source": [
    "import xarray as xr\n",
    "import numpy as np\n",
    "import pandas as pd\n",
    "import scipy.stats as stats \n",
    "import os as os\n",
    "import warnings\n",
    "import matplotlib.pyplot as plt\n",
    "\n",
    "from IPython.display import clear_output\n",
    "from scipy import signal"
   ]
  },
  {
   "cell_type": "code",
   "execution_count": null,
   "metadata": {},
   "outputs": [],
   "source": [
    "import preprocess_utils as pputils\n",
    "import analysis_utils as autils "
   ]
  },
  {
   "cell_type": "code",
   "execution_count": null,
   "metadata": {},
   "outputs": [],
   "source": [
    "all_months = [1,2,3,4,5,6,7,8,9,10,11,12]\n",
    "month_names = ['Jan','Feb','Mar','Apr','May','June','July','Aug','Sept','Oct','Nov','Dec','Annual']"
   ]
  },
  {
   "cell_type": "markdown",
   "metadata": {},
   "source": [
    "### Process CMIP6 models: \n",
    "\n",
    "This is creating the list of models to loop over. I've had problems with some models, and have just been removing them from the list if they cause me problems for now :) Eventually we'll need to deal with the issues and try to get them working..."
   ]
  },
  {
   "cell_type": "code",
   "execution_count": null,
   "metadata": {},
   "outputs": [],
   "source": [
    "path = '/glade/work/mkbren/cmip6-data/cmip6-preprocessed/historical/'\n",
    "\n",
    "preprocessed_files = os.listdir(path)\n",
    "preprocessed_files.sort()\n",
    "preprocessed_models = [d.split('_')[0] for d in preprocessed_files]\n",
    "preprocessed_models = list(set(preprocessed_models))\n",
    "preprocessed_models.sort()\n",
    "# preprocessed_models.remove('ACCESS-CM2')\n",
    "#preprocessed_models.remove('AWI-ESM-1-1-LR')\n",
    "# preprocessed_models.remove('KIOST-ESM')\n",
    "# preprocessed_models.remove('NESM3')\n",
    "#preprocessed_models.remove('ACCESS-ESM1-5')\n",
    "preprocessed_models.remove('CIESM')\n",
    "preprocessed_models.remove('FGOALS-f3-L')\n",
    "print(len(preprocessed_models))\n",
    "print(preprocessed_models)\n",
    "\n",
    "#for p in preprocessed_files:\n",
    "#    print(p)"
   ]
  },
  {
   "cell_type": "code",
   "execution_count": null,
   "metadata": {},
   "outputs": [],
   "source": [
    "# I'm not sure where anomalies are being calculated. In preprocessing? Need to track that down.\n",
    "# Looks like tas_gm_anom positive all years all months for 1979-2014 for at least one model? Weird."
   ]
  },
  {
   "cell_type": "code",
   "execution_count": null,
   "metadata": {},
   "outputs": [],
   "source": [
    "# Butterworth filter functions\n",
    "\n",
    "def butter_filt(x, filt_year, fs, order_butter, ftype):\n",
    "    #filt_year = 1 #1 year\n",
    "    #fs = 12 #monthly data\n",
    "    # if ftype = band provide filt_year as a list or np array\n",
    "    #fn = fs/2; # Nyquist Frequency\n",
    "    fc = (1 / np.array(filt_year)) / 2 # cut off frequency 1sample/ 1year = (1/1)/2 equals 1 year filter (two half cycles/sample)\n",
    "    #fc = (1/2)/2 # cut off frequency 1sample/ 2year = (1/1)/2 equals 2 year filter (two half cycles/sample)\n",
    "    #fc = (1/4)/2 # cut off frequency 1sample/ 4year = (1/1)/2 equals 4 year filter (two half cycles/sample)\n",
    "    #ftype = \"low\", \"high\" or \"band\"\n",
    "    b, a = signal.butter(order_butter, fc, ftype, fs=fs, output='ba')\n",
    "\n",
    "    return signal.filtfilt(b, a, x)\n",
    "\n",
    "def filtfilt_butter(x, filt_year, fs, order_butter, ftype, dim='time'):\n",
    "    # x ...... xr data array\n",
    "    # dims .... dimension aong which to apply function    \n",
    "    filt = xr.apply_ufunc(\n",
    "                butter_filt,  # first the function\n",
    "                x,# now arguments in the order expected by 'butter_filt'\n",
    "                filt_year,  # as above\n",
    "                fs,  # as above\n",
    "                order_butter,  # as above\n",
    "                ftype,\n",
    "                input_core_dims=[[dim], [], [], [], []],  # list with one entry per arg\n",
    "                output_core_dims=[[dim]],  # returned data has 3 dimension\n",
    "                exclude_dims=set((dim,)),  # dimensions allowed to change size. Must be a set!\n",
    "                vectorize=True,  # loop over non-core dims\n",
    "                )\n",
    "\n",
    "    return filt\n",
    "\n",
    "def filtfilt_butter_monthly(x, filt_year, fs, order_butter, ftype, dim='time'):\n",
    "    \"\"\"\n",
    "    Use this to filter each month of a timeseries separately and combine\n",
    "    \n",
    "    in:\n",
    "    x = unfiltered vector time series e.g.: era_data['t2m_arc_mean_anom']\n",
    "    others as for filtfilt_butter\n",
    "    \n",
    "    out:\n",
    "    temp = filtered output\n",
    "    \"\"\"\n",
    "    temp = np.zeros_like(x) * np.nan\n",
    "    for m in range(0, 12):\n",
    "        temp[m : len(temp) : 12] = filtfilt_butter(x.sel(time=x.time.dt.month == m+1),\n",
    "                                                  filt_year=filt_year, fs=fs, order_butter=order_butter,\n",
    "                                                  ftype=ftype, dim=dim)\n",
    "    temp = xr.DataArray(temp, coords={'time': x.time}, dims=['time'])\n",
    "    return temp"
   ]
  },
  {
   "cell_type": "code",
   "execution_count": null,
   "metadata": {},
   "outputs": [],
   "source": [
    "preprocessed_files_pan = []\n",
    "\n",
    "# Fill these with each model's slopes\n",
    "slope_annual, r_annual, intercept_annual = {}, {}, {}\n",
    "slope_high_annual, r_high_annual, intercept_high_annual = {}, {}, {}\n",
    "slope_low_annual, r_low_annual, intercept_low_annual = {}, {}, {}\n",
    "slope, r, intercept = {}, {}, {}\n",
    "slope_high, r_high, intercept_high = {}, {}, {}\n",
    "slope_low, r_low, intercept_low = {}, {}, {}\n",
    "\n",
    "for m, mod in enumerate(preprocessed_models):\n",
    "    print(mod)\n",
    "    if mod + '_historical_siconc_sivol_tas_pan_arctic_fields.nc' in preprocessed_files:\n",
    "        fname = mod + '_historical_siconc_sivol_tas_pan_arctic_fields.nc'\n",
    "        preprocessed_files_pan.append(fname)\n",
    "    elif mod + '_historical_siconc_tas_pan_arctic_fields.nc' in preprocessed_files:\n",
    "        fname = mod + '_historical_siconc_tas_pan_arctic_fields.nc'\n",
    "        preprocessed_files_pan.append(fname)\n",
    "    else:\n",
    "        continue\n",
    "    \n",
    "    data = xr.load_dataset(os.path.join(path, fname))\n",
    "    data = data.sel(time = slice(\"1979-01-01\", \"2014-12-31\"))\n",
    "    \n",
    "    # Calculate annual anomalies\n",
    "    data['tas_gm_annual'] = data.tas_gm.groupby('time.year').mean()\n",
    "    data['tas_gm_annual_anom'] = data.tas_gm_annual - data.tas_gm_annual.mean(dim='year')\n",
    "    \n",
    "    data['sie_total_annual'] = data.sie_arc_tot.groupby('time.year').mean()\n",
    "    data['sie_total_annual_anom'] = data.sie_total_annual - data.sie_total_annual.mean(dim='year')\n",
    "    \n",
    "    # Filter annual anomalies\n",
    "    data['tas_gm_annual_anom_low_8'] = filtfilt_butter(data['tas_gm_annual_anom'], filt_year=8, fs=1,\n",
    "                                                       order_butter=5, ftype='low', dim='year')\n",
    "    data['tas_gm_annual_anom_high_8'] = filtfilt_butter(data['tas_gm_annual_anom'], filt_year=8, fs=1,\n",
    "                                                       order_butter=5, ftype='high', dim='year')\n",
    "    data['sie_total_annual_anom_low_8'] = filtfilt_butter(data['sie_total_annual_anom'], filt_year=8, fs=1,\n",
    "                                                           order_butter=5, ftype='low', dim='year')\n",
    "    data['sie_total_annual_anom_high_8'] = filtfilt_butter(data['sie_total_annual_anom'], filt_year=8, fs=1,\n",
    "                                                           order_butter=5, ftype='high', dim='year')    \n",
    "\n",
    "    # Filter monthly anomalies\n",
    "    data['tas_gm_anom_low_8'] = filtfilt_butter_monthly(data['tas_gm_anom'], filt_year=8, fs=1,\n",
    "                                                        order_butter=5, ftype='low', dim='time')\n",
    "    data['tas_gm_anom_high_8'] = filtfilt_butter_monthly(data['tas_gm_anom'], filt_year=8, fs=1,\n",
    "                                                        order_butter=5, ftype='high', dim='time')\n",
    "    data['sie_total_anom_low_8'] = filtfilt_butter_monthly(data['sie_tot_arc_anom'], filt_year=8, fs=1,\n",
    "                                                        order_butter=5, ftype='low', dim='time')\n",
    "    data['sie_total_anom_high_8'] = filtfilt_butter_monthly(data['sie_tot_arc_anom'], filt_year=8, fs=1,\n",
    "                                                        order_butter=5, ftype='high', dim='time')\n",
    "    \n",
    "    # Calculate annual slopes\n",
    "    slope_annual[mod], intercept_annual[mod], r_annual[mod], _, _ = stats.linregress(data['tas_gm_annual_anom'],\n",
    "                                                                                     data['sie_total_annual_anom'])\n",
    "\n",
    "    slope_low_annual[mod], intercept_low_annual[mod], r_low_annual[mod], _, _ = stats.linregress(data['tas_gm_annual_anom_low_8'],\n",
    "                                                                                                       data['sie_total_annual_anom_low_8'])\n",
    "    \n",
    "    slope_high_annual[mod], intercept_high_annual[mod], r_high_annual[mod], _, _ = stats.linregress(data['tas_gm_annual_anom_high_8'],\n",
    "                                                                                                          data['sie_total_annual_anom_high_8']) \n",
    "    \n",
    "    # Calculate monthly slopes\n",
    "    [slope[mod], r[mod], intercept[mod]] = autils.scatter_linreg(data['tas_gm_anom'],\n",
    "                                                                 data['sie_tot_arc_anom'],\n",
    "                                                                 data, all_months,\n",
    "                                                                 mod, plotflag=False)\n",
    "    \n",
    "    [slope_low[mod], r_low[mod], intercept_low[mod]] = autils.scatter_linreg(data['tas_gm_anom_low_8'],\n",
    "                                                                             data['sie_total_anom_low_8'],\n",
    "                                                                             data, all_months,\n",
    "                                                                             mod, plotflag=False)\n",
    "\n",
    "    [slope_high[mod], r_high[mod], intercept_high[mod]] = autils.scatter_linreg(data['tas_gm_anom_high_8'],\n",
    "                                                                                data['sie_total_anom_high_8'],\n",
    "                                                                                data, all_months,\n",
    "                                                                                mod, plotflag=False)"
   ]
  },
  {
   "cell_type": "code",
   "execution_count": null,
   "metadata": {},
   "outputs": [],
   "source": [
    "months = list(range(1, 12+1))\n",
    "\n",
    "fig, ax = plt.subplots(6, 5, figsize=(16, 20))\n",
    "ax = ax.flatten()\n",
    "a = 1 # axis counter, reserving 0 for obs and 1 for multimodel mean\n",
    "\n",
    "for mod in list(slope.keys()):\n",
    "    a += 1\n",
    "    \n",
    "    ax[a].hlines(0, 1, 13, 'grey')\n",
    "    ax[a].plot(months, np.array(slope[mod]) / 1e6, 'k')\n",
    "    ax[a].plot(months, np.array(slope_low[mod]) / 1e6, 'b')\n",
    "    ax[a].plot(months, np.array(slope_high[mod]) / 1e6, 'r')\n",
    "\n",
    "    ax[a].plot(13, np.array(slope_annual[mod]) / 1e6, '*k')\n",
    "    ax[a].plot(13, np.array(slope_low_annual[mod]) / 1e6, '*b')\n",
    "    ax[a].plot(13, np.array(slope_high_annual[mod]) / 1e6, '*r')\n",
    "\n",
    "    ax[a].set_ylim([-5, 1.5])\n",
    "    ax[a].set_title(mod)\n",
    "    #ax[a].set_xlabel('Month')\n",
    "    #ax[a].set_ylabel('Slope');"
   ]
  },
  {
   "cell_type": "code",
   "execution_count": null,
   "metadata": {},
   "outputs": [],
   "source": [
    "months = list(range(1, 12+1))\n",
    "\n",
    "fig, ax = plt.subplots(6, 5, figsize=(16, 20))\n",
    "ax = ax.flatten()\n",
    "a = 1 # axis counter, reserving 0 for obs and 1 for multimodel mean\n",
    "\n",
    "for mod in list(r.keys()):\n",
    "    a += 1\n",
    "    \n",
    "    ax[a].hlines(0, 1, 13, 'grey')\n",
    "    ax[a].hlines(1, 1, 13, 'grey')\n",
    "    ax[a].plot(months, np.array(r[mod]) ** 2, 'k')\n",
    "    ax[a].plot(months, np.array(r_low[mod]) ** 2, 'b')\n",
    "    ax[a].plot(months, np.array(r_high[mod]) ** 2, 'r')\n",
    "\n",
    "    ax[a].plot(13, np.array(r_annual[mod]) ** 2, '*k')\n",
    "    ax[a].plot(13, np.array(r_low_annual[mod]) ** 2, '*b')\n",
    "    ax[a].plot(13, np.array(r_high_annual[mod]) ** 2, '*r')\n",
    "\n",
    "    ax[a].set_ylim([-0.05, 1.05])\n",
    "    ax[a].set_title(mod)\n",
    "    #ax[a].set_xlabel('Month')\n",
    "    #ax[a].set_ylabel('...R^2');"
   ]
  },
  {
   "cell_type": "code",
   "execution_count": null,
   "metadata": {},
   "outputs": [],
   "source": []
  },
  {
   "cell_type": "code",
   "execution_count": null,
   "metadata": {},
   "outputs": [],
   "source": []
  },
  {
   "cell_type": "code",
   "execution_count": null,
   "metadata": {},
   "outputs": [],
   "source": []
  },
  {
   "cell_type": "markdown",
   "metadata": {},
   "source": [
    "# Below is from OBS"
   ]
  },
  {
   "cell_type": "code",
   "execution_count": null,
   "metadata": {},
   "outputs": [],
   "source": [
    "months = list(range(1, 12+1))\n",
    "\n",
    "plt.hlines(0, 1, 13, 'grey')\n",
    "plt.plot(months, slopes_obs, 'k')\n",
    "plt.plot(months, slopes_obs_low_8, 'b')\n",
    "plt.plot(months, slopes_obs_high_8, 'r')\n",
    "\n",
    "plt.plot(13, slope_an, '*k')\n",
    "plt.plot(13, slope_an_low_8, '*b')\n",
    "plt.plot(13, slope_an_high_8, '*r')\n",
    "\n",
    "plt.xlabel('Month')\n",
    "plt.ylabel('Slope');\n",
    "\n",
    "# Why not shoulder seasons like Katie's?"
   ]
  },
  {
   "cell_type": "code",
   "execution_count": null,
   "metadata": {},
   "outputs": [],
   "source": [
    "months = np.array(list(range(1, 12+1)))\n",
    "\n",
    "plt.hlines(0, 1, 13, 'grey')\n",
    "plt.hlines(1, 1, 13, 'grey')\n",
    "plt.plot(months, np.array(r_obs) ** 2, 'k')\n",
    "plt.plot(months, np.array(r_obs_low_8) ** 2, 'b')\n",
    "plt.plot(months, np.array(r_obs_high_8) ** 2, 'r')\n",
    "\n",
    "plt.plot(13, np.array(r_value_annual) ** 2, '*k')\n",
    "plt.plot(13, np.array(r_value_annual_low_8) ** 2, '*b')\n",
    "plt.plot(13, np.array(r_value_annual_high_8) ** 2, '*r')\n",
    "\n",
    "plt.xlabel('Month')\n",
    "plt.ylabel('R $^2$');"
   ]
  },
  {
   "cell_type": "markdown",
   "metadata": {},
   "source": [
    "## Save reuslts (code not written yet)"
   ]
  },
  {
   "cell_type": "code",
   "execution_count": null,
   "metadata": {},
   "outputs": [],
   "source": [
    "#sstr = 'slopes_obs_filt_5_37_years_1979_2014.npz'\n",
    "#np.savez(sstr,\n",
    "#         slopes_annual_mean = slopes_annual_mean,\n",
    "#         slopes_mean = slopes_mean)\n",
    "\n",
    "# Load results\n",
    "# meh = np.load(sstr, allow_pickle=True)\n",
    "# meh.files\n",
    "# meh['slopes_annual_mean'][()]\n",
    "# meh['slopes_mm_mean'].shape"
   ]
  },
  {
   "cell_type": "code",
   "execution_count": null,
   "metadata": {},
   "outputs": [],
   "source": [
    "#sstr = 'r_obs_windows_5_37_years_1979_2014.npz'\n",
    "#np.savez(sstr,\n",
    "#         r_annual_mean = r_annual_mean,\n",
    "#         r_mean = r_mean)\n",
    "\n",
    "# Load results\n",
    "# meh = np.load(sstr, allow_pickle=True)\n",
    "# meh.files\n",
    "# meh['r_annual_mean'][()]\n",
    "# meh['r_mm_mean'].shape"
   ]
  },
  {
   "cell_type": "code",
   "execution_count": null,
   "metadata": {},
   "outputs": [],
   "source": []
  },
  {
   "cell_type": "code",
   "execution_count": null,
   "metadata": {},
   "outputs": [],
   "source": []
  }
 ],
 "metadata": {
  "kernelspec": {
   "display_name": "CMIP6 2019.10a",
   "language": "python",
   "name": "cmip6-201910a"
  },
  "language_info": {
   "codemirror_mode": {
    "name": "ipython",
    "version": 3
   },
   "file_extension": ".py",
   "mimetype": "text/x-python",
   "name": "python",
   "nbconvert_exporter": "python",
   "pygments_lexer": "ipython3",
   "version": "3.7.3"
  }
 },
 "nbformat": 4,
 "nbformat_minor": 4
}
