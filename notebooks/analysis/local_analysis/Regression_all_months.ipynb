{
 "cells": [
  {
   "cell_type": "markdown",
   "metadata": {},
   "source": [
    "# Historical simulations: slope and R^2 for all months\n",
    "  \n",
    "Katie Brennan  \n",
    "December 2020"
   ]
  },
  {
   "cell_type": "code",
   "execution_count": null,
   "metadata": {},
   "outputs": [],
   "source": [
    "import xarray as xr\n",
    "import numpy as np\n",
    "import pandas as pd\n",
    "import scipy.stats as stats \n",
    "import os as os\n",
    "import warnings\n",
    "import matplotlib.pyplot as plt"
   ]
  },
  {
   "cell_type": "code",
   "execution_count": null,
   "metadata": {},
   "outputs": [],
   "source": [
    "import preprocess_utils as pputils\n",
    "import analysis_utils as autils "
   ]
  },
  {
   "cell_type": "markdown",
   "metadata": {},
   "source": [
    "## Load observational data (need to update with three different versions of sea ice sat data): "
   ]
  },
  {
   "cell_type": "code",
   "execution_count": null,
   "metadata": {},
   "outputs": [],
   "source": [
    "all_months = [1,2,3,4,5,6,7,8,9,10,11,12]\n",
    "month_names = ['Jan','Feb','Mar','Apr','May','June','July','Aug','Sept','Oct','Nov','Dec','Annual']"
   ]
  },
  {
   "cell_type": "markdown",
   "metadata": {},
   "source": [
    "#### t2m: "
   ]
  },
  {
   "cell_type": "code",
   "execution_count": null,
   "metadata": {},
   "outputs": [],
   "source": [
    "era_path = '/glade/work/rclancy/monthly_tas_ERA5.nc'\n",
    "era_data = xr.load_dataset(era_path)\n",
    "era_data = pputils.rename_lat_lon(era_data)\n",
    "era_data = pputils.rename_dimensions(era_data, '')"
   ]
  },
  {
   "cell_type": "code",
   "execution_count": null,
   "metadata": {},
   "outputs": [],
   "source": [
    "era_data['t2m_arc_mean'] = autils.calc_arctic_mean(era_data.t2m.isel(expver= 0),70)[:-2]\n",
    "era_data['t2m_arc_mean_climo'] = era_data.t2m_arc_mean.groupby('time.month').mean()\n",
    "era_data['t2m_arc_mean_anom'] = era_data.t2m_arc_mean.groupby('time.month') - era_data['t2m_arc_mean_climo']"
   ]
  },
  {
   "cell_type": "code",
   "execution_count": null,
   "metadata": {},
   "outputs": [],
   "source": [
    "era_data['t2m_arc_mean_annual'] = era_data.t2m_arc_mean.groupby('time.year').mean()\n",
    "era_data['t2m_arc_mean_annual_anom'] = era_data.t2m_arc_mean_annual - era_data.t2m_arc_mean_annual.mean(dim='year')"
   ]
  },
  {
   "cell_type": "markdown",
   "metadata": {},
   "source": [
    "#### sie: "
   ]
  },
  {
   "cell_type": "code",
   "execution_count": null,
   "metadata": {},
   "outputs": [],
   "source": [
    "sat_path ='/glade/scratch/mkbren/cmip6_si_tas/satellite_data/Fetterer_etal_2017/sidads.colorado.edu/DATASETS/NOAA/G02135/north/monthly/data/'\n",
    "\n",
    "for i in np.arange(1,13,1):\n",
    "    sat_filename = 'N_'+f'{i:02d}'+'_extent_v3.0.csv'\n",
    "    df1 = pd.read_csv(sat_path+sat_filename)\n",
    "    if i ==1: \n",
    "        df2 = df1\n",
    "    else: \n",
    "        df2 = df2.append(df1)"
   ]
  },
  {
   "cell_type": "code",
   "execution_count": null,
   "metadata": {},
   "outputs": [],
   "source": [
    "df = df2.sort_values(['year',' mo'],ascending=True)\n",
    "df_nonans = df.where(df[' extent']>0)\n",
    "climo = df_nonans.groupby(' mo')[' extent'].mean()\n",
    "\n",
    "df_nonans['extent_anoms'] = df_nonans[' extent'] - climo"
   ]
  },
  {
   "cell_type": "code",
   "execution_count": null,
   "metadata": {},
   "outputs": [],
   "source": [
    "sie_1978_2020 = df_nonans[' extent'].values\n",
    "sie_1978_2020_anom = np.zeros(len(sie_1978_2020))\n",
    "\n",
    "for t in range(len(sie_1978_2020)): \n",
    "    for m in range(12):\n",
    "        if t ==0: \n",
    "            m = 10\n",
    "        sie_1978_2020_anom[t] = sie_1978_2020[t] - climo[m+1]"
   ]
  },
  {
   "cell_type": "code",
   "execution_count": null,
   "metadata": {},
   "outputs": [],
   "source": [
    "era_data['sie_arc_mean_anom'] = xr.DataArray(sie_1978_2020_anom[2:-8], coords={\"time\":era_data.time}, dims={'time':era_data.time})\n",
    "era_data['sie_arc_mean_annual'] = era_data.sie_arc_mean_anom.groupby('time.year').mean()\n",
    "era_data['sie_arc_mean_annual_anom'] = era_data.sie_arc_mean_annual - era_data.sie_arc_mean_annual.mean(dim='year')"
   ]
  },
  {
   "cell_type": "code",
   "execution_count": null,
   "metadata": {},
   "outputs": [],
   "source": [
    "era_data = era_data.isel(time=slice(None,-2))"
   ]
  },
  {
   "cell_type": "markdown",
   "metadata": {},
   "source": [
    "#### Regress across full time period: "
   ]
  },
  {
   "cell_type": "code",
   "execution_count": null,
   "metadata": {},
   "outputs": [],
   "source": [
    "[slopes_obs, \n",
    "r_obs,\n",
    "intercept_obs] = autils.scatter_linreg(era_data['t2m_arc_mean_anom'],era_data['sie_arc_mean_anom'],\n",
    "                                       era_data,all_months,'obs',plotflag=False)"
   ]
  },
  {
   "cell_type": "code",
   "execution_count": null,
   "metadata": {},
   "outputs": [],
   "source": [
    "[_, _,_] = autils.scatter_linreg(era_data['t2m_arc_mean_anom'],era_data['sie_arc_mean_anom'],era_data,[1,12],'obs',plotflag=True)"
   ]
  },
  {
   "cell_type": "markdown",
   "metadata": {},
   "source": [
    "#### Regress between 1979-2014: "
   ]
  },
  {
   "cell_type": "code",
   "execution_count": null,
   "metadata": {},
   "outputs": [],
   "source": [
    "era_data_79_14 = era_data.sel(time=slice('1979-01-01','2014-12-31'))\n",
    "\n",
    "[slopes_obs_79_14, \n",
    "r_obs_79_14,\n",
    "intercept_obs_79_14] = autils.scatter_linreg(era_data_79_14['t2m_arc_mean_anom'],era_data_79_14['sie_arc_mean_anom'],\n",
    "                                             era_data_79_14,all_months,'obs',plotflag=False)"
   ]
  },
  {
   "cell_type": "code",
   "execution_count": null,
   "metadata": {},
   "outputs": [],
   "source": [
    "[_, _,_] = autils.scatter_linreg(era_data_79_14['t2m_arc_mean_anom'],era_data_79_14['sie_arc_mean_anom'],\n",
    "                                 era_data_79_14,[1,12],'obs',plotflag=True)"
   ]
  },
  {
   "cell_type": "code",
   "execution_count": null,
   "metadata": {},
   "outputs": [],
   "source": [
    "slope_an,intercept_annual,r_value_annual,_,_ = stats.linregress(era_data_79_14.t2m_arc_mean_annual_anom,\n",
    "                                                                    era_data_79_14.sie_arc_mean_annual_anom)\n",
    "\n",
    "slope_an, r_value_annual**2"
   ]
  },
  {
   "cell_type": "markdown",
   "metadata": {},
   "source": [
    "### Load multiple satellite records: (incomplete) "
   ]
  },
  {
   "cell_type": "code",
   "execution_count": null,
   "metadata": {},
   "outputs": [],
   "source": [
    "# SIA all three products: \n",
    "sia_path = '/glade/work/lettier/archived_data/202003_data_paper_antarctic_sia_cmip6/processed_OBS_sia_1979-2018.nc'\n",
    "\n",
    "#SIC NASA Team and Bootstrap monthly concentration fields here: \n",
    "path_sat_sic = '/glade/work/lettier/CDR/mon/seaice_conc_monthly_nh_1979-2018.nc'\n",
    "\n",
    "#SIA and SIE for NASA Team and Bootstrap, Arctic and Antarctic here: \n",
    "path_sat_nt_bt = '/glade/work/lettier/CDR/mon/processed/sia_cdr_monthly_processed_nhsh_1979-2018.nc'"
   ]
  },
  {
   "cell_type": "code",
   "execution_count": null,
   "metadata": {},
   "outputs": [],
   "source": [
    "# sat_nt_bt = xr.open_dataset(path_sat_nt_bt)"
   ]
  },
  {
   "cell_type": "markdown",
   "metadata": {},
   "source": [
    "### Process CMIP6 models: \n",
    "\n",
    "This is creating the list of models to loop over. I've had problems with some models, and have just been removing them from the list if they cause me problems for now :) Eventually we'll need to deal with the issues and try to get them working..."
   ]
  },
  {
   "cell_type": "code",
   "execution_count": null,
   "metadata": {},
   "outputs": [],
   "source": [
    "path = '/glade/work/mkbren/cmip6-data/cmip6-preprocessed/historical/'\n",
    "\n",
    "preprocessed_files = os.listdir(path)\n",
    "preprocessed_models = [d.split('_')[0] for d in preprocessed_files]\n",
    "preprocessed_models = list(set(preprocessed_models))\n",
    "# preprocessed_models.remove('ACCESS-CM2')\n",
    "# preprocessed_models.remove('AWI-ESM-1-1-LR')\n",
    "# preprocessed_models.remove('KIOST-ESM')\n",
    "# preprocessed_models.remove('NESM3')\n",
    "#preprocessed_models.remove('ACCESS-ESM1-5')\n",
    "len(preprocessed_models)"
   ]
  },
  {
   "cell_type": "code",
   "execution_count": null,
   "metadata": {},
   "outputs": [],
   "source": [
    "all_months = [1,2,3,4,5,6,7,8,9,10,11,12]\n",
    "month_names = ['Jan','Feb','Mar','Apr','May','June','July','Aug','Sept','Oct','Nov','Dec','Annual']"
   ]
  },
  {
   "cell_type": "code",
   "execution_count": null,
   "metadata": {},
   "outputs": [],
   "source": [
    "preprocessed_models = ['NorESM2-LM']"
   ]
  },
  {
   "cell_type": "markdown",
   "metadata": {},
   "source": [
    "# Regress total SIE and Arctic mean temperature: \n",
    "\n",
    "# Full period: \n",
    "This takes a long time to run...but once its done you have all the slopes and R^2 values for all the models at your fingertips! "
   ]
  },
  {
   "cell_type": "markdown",
   "metadata": {},
   "source": [
    "### Seasonal cycle across models: "
   ]
  },
  {
   "cell_type": "code",
   "execution_count": null,
   "metadata": {},
   "outputs": [],
   "source": [
    "tot_sie_allmod = {}\n",
    "tot_sie_allmod_ar = np.zeros((12,len(preprocessed_models)))\n",
    "tot_siv_allmod = {}\n",
    "tot_siv_allmod_ar = np.zeros((12,len(preprocessed_models)))\n",
    "\n",
    "for m,mod in enumerate(preprocessed_models):\n",
    "    print('Working on '+mod+'...')\n",
    "    filename = mod+'_historical_siconc_sithick_tas_pan_arctic_fields.nc'\n",
    "    \n",
    "    data = xr.load_dataset(os.path.join(path,filename))\n",
    "\n",
    "    tot_sie = data.sie_arc_tot*1e-6\n",
    "    product = tot_sie.groupby('time.month').mean(dim='time')\n",
    "    tot_sie_allmod[mod] = product\n",
    "    tot_sie_allmod_ar[:,m] = product\n",
    "    \n",
    "    if len(data.sivol_arc_mean.shape)>1: \n",
    "        tot_siv = data.sivol_arc_mean.sel(member_id='r1i1p1f1')\n",
    "    else: \n",
    "        tot_siv = data.sivol_arc_mean\n",
    "    product2 = tot_siv.groupby('time.month').mean(dim='time')\n",
    "    tot_siv_allmod[mod] = product2\n",
    "    tot_siv_allmod_ar[:,m] = product2"
   ]
  },
  {
   "cell_type": "markdown",
   "metadata": {},
   "source": [
    "#### Plot mean seasonal cycle Arctic sea ice extent for each model and satellite: "
   ]
  },
  {
   "cell_type": "code",
   "execution_count": null,
   "metadata": {},
   "outputs": [],
   "source": [
    "colormap = plt.cm.tab20\n",
    "colors = [colormap(i) for i in np.linspace(0, 1,len(preprocessed_models))]\n",
    "\n",
    "fig = plt.figure(figsize=(10,6))\n",
    "\n",
    "tot_sie_MMmean = np.mean(tot_sie_allmod_ar,axis=1)\n",
    "\n",
    "for m,mod in enumerate(preprocessed_models):\n",
    "    plt.plot(np.arange(0,12,1),tot_sie_allmod[mod],label=mod, color=colors[m])\n",
    "\n",
    "plt.plot(np.arange(0,12,1),tot_sie_MMmean,label='multi-model mean', color='k',linewidth=4)\n",
    "plt.plot(np.arange(0,12,1),climo,label='Satellite (Fetterer et al 2017)', color='crimson',linewidth=4)\n",
    "\n",
    "plt.xticks(np.arange(0, len(all_months), 1),month_names,fontsize=14,rotation='vertical')\n",
    "plt.legend(bbox_to_anchor=[1.01, 1.01])\n",
    "plt.ylabel('Total Arctic sea ice extent (10$^6$ km$^2$)', fontsize=16)\n",
    "#plt.title('Slope: Artic mean sea ice extent vs. surface temperature', fontsize=18)"
   ]
  },
  {
   "cell_type": "markdown",
   "metadata": {},
   "source": [
    "#### Plot mean seasonal cycle total Arctic sea ice volume for each model and satellite: "
   ]
  },
  {
   "cell_type": "code",
   "execution_count": null,
   "metadata": {},
   "outputs": [],
   "source": [
    "colormap = plt.cm.tab20\n",
    "colors = [colormap(i) for i in np.linspace(0, 1,len(preprocessed_models))]\n",
    "\n",
    "fig = plt.figure(figsize=(10,6))\n",
    "\n",
    "tot_siv_MMmean = np.mean(tot_siv_allmod_ar,axis=1)\n",
    "\n",
    "for m,mod in enumerate(preprocessed_models):\n",
    "    plt.plot(np.arange(0,12,1),tot_siv_allmod[mod]*1e-12,label=mod, color=colors[m])\n",
    "\n",
    "plt.plot(np.arange(0,12,1),tot_siv_MMmean*1e-12,label='multi-model mean', color='k',linewidth=4)\n",
    "\n",
    "plt.xticks(np.arange(0, len(all_months), 1),month_names,fontsize=14,rotation='vertical')\n",
    "plt.legend(bbox_to_anchor=[1.01, 1.01])\n",
    "plt.ylabel('Total Arctic sea ice volume (1000 km$^3$)', fontsize=16)\n",
    "#plt.title('Slope: Artic mean sea ice extent vs. surface temperature', fontsize=18)"
   ]
  },
  {
   "cell_type": "markdown",
   "metadata": {},
   "source": [
    "### Put slope and R^2 values into arrays for plotting: "
   ]
  },
  {
   "cell_type": "markdown",
   "metadata": {},
   "source": [
    "## All models slope and R^2 for all months: "
   ]
  },
  {
   "cell_type": "code",
   "execution_count": null,
   "metadata": {},
   "outputs": [],
   "source": [
    "fig = plt.figure(figsize=(10,6))\n",
    "\n",
    "slope_MMmean = np.mean(slopes_allmods,axis=1)\n",
    "slope_MMstd = np.std(slopes_allmods,axis=1)\n",
    "\n",
    "for i in np.arange(0,13,1):\n",
    "    x = np.arange(i-0.5,i+0.59,0.1)\n",
    "    y = np.ones(x.shape)\n",
    "    plt.fill_between(x, y1=y*(slope_MMmean[i]+slope_MMstd[i]), \n",
    "                     y2=y*(slope_MMmean[i]-slope_MMstd[i]), \n",
    "                     alpha=0.2, color='slateblue')\n",
    "\n",
    "for mod in preprocessed_models:\n",
    "    plt.scatter(np.arange(0,13,1),slopes_plot_all[mod][1,:],label=mod, color='slateblue',marker='_', s=700)\n",
    "\n",
    "plt.scatter(np.arange(0,13,1),slope_MMmean,label='multi-model mean', color='k',linewidth=5,marker='_', s=400)\n",
    "#plt.scatter(np.arange(0,12,1),slopes_obs,label='Satellite', color='crimson',linewidth=5,marker='_', s=300)\n",
    "#plt.scatter(np.arange(0,12,1),slope_MMmean_satperiod[:-1],label='multi-model mean \\nsat period', color='orange',linewidth=5,marker='_', s=400)\n",
    "\n",
    "plt.xticks(np.arange(0, len(all_months)+1, 1),month_names,fontsize=14,rotation='vertical')\n",
    "plt.legend(bbox_to_anchor=[1.01, 1.01])\n",
    "plt.ylabel('Slope (10$^6$ km$^2$ per $^{o}$C)', fontsize=16)\n",
    "plt.title('Slope: Historical full', fontsize=18)\n",
    "plt.xlim(-0.75,12.75)\n",
    "plt.ylim(-5.5,0.25)\n",
    "\n",
    "#    plt.yticks([0.5,1.5],['R$^2$','Slope'],fontsize=14)"
   ]
  },
  {
   "cell_type": "code",
   "execution_count": null,
   "metadata": {},
   "outputs": [],
   "source": [
    "fig = plt.figure(figsize=(10,6))\n",
    "\n",
    "r2_MMmean = np.mean(r2_allmods,axis=1)\n",
    "r2_MMstd = np.std(r2_allmods,axis=1)\n",
    "\n",
    "for i in np.arange(0,13,1):\n",
    "    x = np.arange(i-0.5,i+0.59,0.1)\n",
    "    y = np.ones(x.shape)\n",
    "    plt.fill_between(x, y1=y*(r2_MMmean[i]+r2_MMstd[i]), \n",
    "                     y2=y*(r2_MMmean[i]-r2_MMstd[i]), \n",
    "                     alpha=0.2, color='dodgerblue')\n",
    "\n",
    "for mod in preprocessed_models:\n",
    "    plt.scatter(np.arange(0,13,1),slopes_plot_all[mod][0,:],label=mod, color='dodgerblue',marker='_', s=700)\n",
    "\n",
    "plt.scatter(np.arange(0,13,1),r2_MMmean,label='multi-model mean', color='k',linewidth=5,marker='_', s=400)\n",
    "#plt.scatter(np.arange(0,12,1),np.power(r_obs,2),label='Satellite', color='crimson',linewidth=5,marker='_', s=300)\n",
    "#plt.scatter(np.arange(0,12,1),r2_MMmean_satperiod[:-1],label='multi-model mean \\nsat period', color='orange',linewidth=5,marker='_', s=400)\n",
    "\n",
    "#plt.axhline(0.5, color='k',linestyle='--')\n",
    "plt.xticks(np.arange(0, len(all_months)+1, 1),month_names,fontsize=14,rotation='vertical')\n",
    "plt.legend(bbox_to_anchor=[1.01, 1.01])\n",
    "plt.ylabel('R$^2$ value', fontsize=16)\n",
    "plt.title('R$^2$ value: Historical full', fontsize=18)\n",
    "plt.xlim(-0.75,12.75)\n",
    "plt.ylim(-0.05,1)\n",
    "\n",
    "#    plt.yticks([0.5,1.5],['R$^2$','Slope'],fontsize=14)"
   ]
  },
  {
   "cell_type": "markdown",
   "metadata": {},
   "source": [
    "## Investigating model repeats: "
   ]
  },
  {
   "cell_type": "code",
   "execution_count": null,
   "metadata": {},
   "outputs": [],
   "source": [
    "preprocessed_models_select = ['MIROC6','CESM2-WACCM','EC-Earth3-Veg-LR','CMCC-CM2-SR5','MPI-ESM-1-2-HAM','NorCPM1','CESM2',\n",
    "                              'CESM2-FV2','EC-Earth3-Veg','MPI-ESM1-2-HR','CIESM','EC-Earth3','E3SM-1-0','EC-Earth3-AerChem',\n",
    "                              'MRI-ESM2-0','CESM2-WACCM-FV2','MPI-ESM1-2-LR','NorESM2-LM','ACCESS-ESM1-5','E3SM-1-1-ECA','E3SM-1-1',\n",
    "                              'NorESM2-MM']"
   ]
  },
  {
   "cell_type": "code",
   "execution_count": null,
   "metadata": {},
   "outputs": [],
   "source": [
    "preprocessed_models_select = ['EC-Earth3-Veg-LR','EC-Earth3-Veg','EC-Earth3','EC-Earth3-AerChem']\n",
    "# preprocessed_models_select = ['CESM2-WACCM','CESM2','CESM2-FV2','CESM2-WACCM-FV2']\n",
    "# preprocessed_models_select = ['NorCPM1','NorESM2-LM','NorESM2-MM']\n",
    "preprocessed_models_select = ['MPI-ESM-1-2-HAM','MPI-ESM1-2-HR','MPI-ESM1-2-LR']\n",
    "\n",
    "fig = plt.figure(figsize=(10,6))\n",
    "\n",
    "slope_MMmean = np.mean(slopes_allmods,axis=1)\n",
    "\n",
    "for mod in preprocessed_models_select:\n",
    "    plt.plot(slopes_plot_all[mod][1,:],label=mod)\n",
    "\n",
    "plt.xticks(np.arange(0, len(all_months), 1) + 0.5,month_names,fontsize=14,rotation='vertical')\n",
    "plt.legend(bbox_to_anchor=[1.0, 1.0], fontsize=14)\n",
    "plt.ylabel('Slope (10$^6$ km$^2$ per $^{o}$C)', fontsize=14)\n",
    "#    plt.yticks([0.5,1.5],['R$^2$','Slope'],fontsize=14)"
   ]
  },
  {
   "cell_type": "code",
   "execution_count": null,
   "metadata": {},
   "outputs": [],
   "source": [
    "fig = plt.figure(figsize=(10,6))\n",
    "\n",
    "r2_MMmean = np.mean(r2_allmods,axis=1)\n",
    "\n",
    "for mod in preprocessed_models_select:\n",
    "    plt.plot(slopes_plot_all[mod][0,:],label=mod)\n",
    "\n",
    "#plt.plot(r2_MMmean,label='multi-model mean', color='k',linewidth=3)\n",
    "\n",
    "plt.axhline(0.5, color='k',linestyle='--')\n",
    "plt.xticks(np.arange(0, len(all_months), 1) + 0.5,month_names,fontsize=14,rotation='vertical')\n",
    "plt.legend(bbox_to_anchor=[1.0, 1.0],fontsize=14)\n",
    "plt.ylabel('R$^2$ value', fontsize=14)\n",
    "#    plt.yticks([0.5,1.5],['R$^2$','Slope'],fontsize=14)"
   ]
  },
  {
   "cell_type": "markdown",
   "metadata": {},
   "source": [
    "## Heat maps for each model: "
   ]
  },
  {
   "cell_type": "code",
   "execution_count": null,
   "metadata": {},
   "outputs": [],
   "source": [
    "for i,mod in enumerate(preprocessed_models):\n",
    "    # Plot slopes for all models\n",
    "    slopes_plot = np.zeros((2,12))\n",
    "\n",
    "    for im, m in enumerate(all_months):\n",
    "        slopes_plot[1,im] = slopes_all[mod][im]\n",
    "        slopes_plot[0,im] = r_all[mod][im]**2\n",
    "        \n",
    "    fig = plt.figure(figsize=(10,2))\n",
    "    plt.pcolormesh(slopes_plot, cmap='RdBu')\n",
    "    plt.clim(1.0, -1.0)\n",
    "    plt.xticks(np.arange(0, len(all_months), 1) + 0.5,month_names,fontsize=14, \n",
    "               rotation='vertical')\n",
    "    plt.yticks([0.5,1.5],['R$^2$','Slope'],fontsize=14)\n",
    "    plt.title(mod, fontsize=18)\n",
    "    plt.colorbar(label='Slope ((10$^{6}$ km$^{2}$)/K)')"
   ]
  },
  {
   "cell_type": "markdown",
   "metadata": {},
   "source": [
    "# Satellite period: "
   ]
  },
  {
   "cell_type": "code",
   "execution_count": null,
   "metadata": {},
   "outputs": [],
   "source": [
    "slopes_all_satperiod = {}\n",
    "r_all_satperiod = {}\n",
    "intercept_all_satperiod = {}\n",
    "\n",
    "slope_annual_satperiod = {}\n",
    "r_annual_satperiod = {}\n",
    "intercept_annual_satperiod = {}\n",
    "\n",
    "for mod in preprocessed_models:\n",
    "    print('Working on '+mod+'...')\n",
    "    filename = mod+'_historical_siconc_sithick_tas_pan_arctic_fields.nc'\n",
    "    \n",
    "    data = xr.load_dataset(os.path.join(path,filename))\n",
    "    data = data.sel(time = slice(\"1979-01-01\", \"2018-12-01\"))\n",
    "\n",
    "    [slopes_all_satperiod[mod], \n",
    "    r_all_satperiod[mod],\n",
    "    intercept_all_satperiod[mod]] = autils.scatter_linreg(data.tas_arc_mean_anom,data.sie_arc_tot*1e-6,data,\n",
    "                                                          all_months,mod,plotflag=False)\n",
    "    \n",
    "    tas_annual_mean = data.tas_arc_mean.groupby('time.year').mean()\n",
    "    tas_annual_mean_anom = tas_annual_mean - tas_annual_mean.mean(dim='year')\n",
    "    sie_annual_mean = data.sie_arc_tot .groupby('time.year').mean()\n",
    "    sie_annual_mean_anom = sie_annual_mean - sie_annual_mean.mean(dim='year')\n",
    "    \n",
    "    [slope_annual_satperiod[mod],\n",
    "    intercept_annual_satperiod[mod],\n",
    "    r_annual_satperiod[mod],_,_] = stats.linregress(tas_annual_mean_anom,sie_annual_mean_anom*1e-6)"
   ]
  },
  {
   "cell_type": "code",
   "execution_count": null,
   "metadata": {},
   "outputs": [],
   "source": [
    "slopes_plot_all_satperiod = {}\n",
    "slopes_allmods_satperiod = np.zeros((13,len(preprocessed_models)))\n",
    "r2_allmods_satperiod = np.zeros((13,len(preprocessed_models)))\n",
    "\n",
    "for i,mod in enumerate(preprocessed_models):\n",
    "    # Plot slopes for all models\n",
    "    slopes_plot = np.zeros((2,13))\n",
    "\n",
    "    for im, m in enumerate(all_months):\n",
    "        slopes_plot[1,im] = slopes_all_satperiod[mod][im]\n",
    "        slopes_plot[0,im] = r_all_satperiod[mod][im]**2\n",
    "    \n",
    "    slopes_plot[1,12] = slope_annual_satperiod[mod]\n",
    "    slopes_plot[0,12] = r_annual_satperiod[mod]**2\n",
    "        \n",
    "    slopes_plot_all_satperiod[mod] = slopes_plot\n",
    "    slopes_allmods_satperiod[:,i] = slopes_plot[1,:]\n",
    "    r2_allmods_satperiod[:,i] = slopes_plot[0,:]"
   ]
  },
  {
   "cell_type": "code",
   "execution_count": null,
   "metadata": {},
   "outputs": [],
   "source": [
    "fig = plt.figure(figsize=(10,6))\n",
    "\n",
    "slope_MMmean_satperiod = np.mean(slopes_allmods_satperiod,axis=1)\n",
    "slope_MMstd_satperiod = np.std(slopes_allmods_satperiod,axis=1)\n",
    "\n",
    "for i in np.arange(0,13,1):\n",
    "    x = np.arange(i-0.5,i+0.59,0.1)\n",
    "    y = np.ones(x.shape)\n",
    "    plt.fill_between(x, y1=y*(slope_MMmean_satperiod[i]+slope_MMstd_satperiod[i]), \n",
    "                     y2=y*(slope_MMmean_satperiod[i]-slope_MMstd_satperiod[i]), \n",
    "                     alpha=0.2, color='slateblue')\n",
    "\n",
    "for mod in preprocessed_models:\n",
    "    plt.scatter(np.arange(0,13,1),slopes_plot_all_satperiod[mod][1,:],label=mod, color='slateblue',marker='_', s=700)\n",
    "\n",
    "plt.scatter(np.arange(0,13,1),slope_MMmean_satperiod,label='multi-model mean', color='k',linewidth=5,marker='_', s=400)\n",
    "plt.scatter(np.arange(0,12,1),slopes_obs_79_14,label='Satellite', color='crimson',linewidth=5,marker='_', s=300)\n",
    "plt.scatter(12,slope_an, color='crimson',linewidth=5,marker='_', s=300)\n",
    "\n",
    "plt.axvline(11.5, color='k',linestyle='--')\n",
    "plt.xlim(-0.75,12.75)\n",
    "plt.ylim(-5.5,0.25)\n",
    "\n",
    "plt.xticks(np.arange(0, 13, 1),month_names,fontsize=14,rotation='vertical')\n",
    "plt.legend(bbox_to_anchor=[1.01, 1.01])\n",
    "plt.ylabel('Slope (10$^6$ km$^2$ per $^{o}$C)', fontsize=16)\n",
    "plt.title('Slope: Historical (1979-2014)', fontsize=18)\n",
    "\n",
    "#    plt.yticks([0.5,1.5],['R$^2$','Slope'],fontsize=14)"
   ]
  },
  {
   "cell_type": "code",
   "execution_count": null,
   "metadata": {},
   "outputs": [],
   "source": [
    "fig = plt.figure(figsize=(10,6))\n",
    "\n",
    "r2_MMmean_satperiod = np.mean(r2_allmods_satperiod,axis=1)\n",
    "r2_MMstd_satperiod = np.std(r2_allmods_satperiod,axis=1)\n",
    "\n",
    "for i in np.arange(0,13,1):\n",
    "    x = np.arange(i-0.5,i+0.59,0.1)\n",
    "    y = np.ones(x.shape)\n",
    "    plt.fill_between(x, y1=y*(r2_MMmean_satperiod[i]+r2_MMstd_satperiod[i]), \n",
    "                     y2=y*(r2_MMmean_satperiod[i]-r2_MMstd_satperiod[i]), \n",
    "                     alpha=0.2, color='dodgerblue')\n",
    "\n",
    "for mod in preprocessed_models:\n",
    "    plt.scatter(np.arange(0,13,1),slopes_plot_all_satperiod[mod][0,:],label=mod, color='dodgerblue',marker='_', s=700)\n",
    "\n",
    "plt.scatter(np.arange(0,13,1),r2_MMmean_satperiod,label='multi-model mean', color='k',linewidth=5,marker='_', s=400)\n",
    "plt.scatter(np.arange(0,12,1),np.power(r_obs_79_14,2),label='Satellite', color='crimson',linewidth=5,marker='_', s=300)\n",
    "plt.scatter(12,r_value_annual**2, color='crimson',linewidth=5,marker='_', s=300)\n",
    "\n",
    "plt.axvline(11.5, color='k',linestyle='--')\n",
    "plt.xlim(-0.75,12.75)\n",
    "plt.ylim(-0.05,1)\n",
    "\n",
    "plt.xticks(np.arange(0, 13, 1),month_names,fontsize=14,rotation='vertical')\n",
    "plt.legend(bbox_to_anchor=[1.01, 1.01])\n",
    "plt.ylabel('R$^2$ value', fontsize=16)\n",
    "plt.title('R$^2$ value: Historical (1979-2014)', fontsize=18)\n",
    "\n",
    "#    plt.yticks([0.5,1.5],['R$^2$','Slope'],fontsize=14)"
   ]
  },
  {
   "cell_type": "markdown",
   "metadata": {},
   "source": [
    "# Regress total SIV and Arctic mean temperature: "
   ]
  },
  {
   "cell_type": "code",
   "execution_count": null,
   "metadata": {},
   "outputs": [],
   "source": [
    "slopes_all_vol = {}\n",
    "r_all_vol = {}\n",
    "intercept_all_vol = {}\n",
    "\n",
    "for mod in preprocessed_models:\n",
    "    print('Working on '+mod+'...')\n",
    "    filename = mod+'_historical_siconc_sithick_tas_pan_arctic_fields.nc'\n",
    "    \n",
    "    data = xr.load_dataset(os.path.join(path,filename))\n",
    "    \n",
    "    if len(data.sivol_arc_mean.shape)>1: \n",
    "        sivol = data.sivol_arc_mean.sel(member_id='r1i1p1f1')\n",
    "    else: \n",
    "        sivol = data.sivol_arc_mean\n",
    "\n",
    "    [slopes_all_vol[mod], \n",
    "    r_all_vol[mod],\n",
    "    intercept_all_vol[mod]] = autils.scatter_linreg(data.tas_arc_mean_anom,sivol,data,all_months,mod,plotflag=False)"
   ]
  },
  {
   "cell_type": "code",
   "execution_count": null,
   "metadata": {},
   "outputs": [],
   "source": [
    "slopes_plot_all_vol = {}\n",
    "slopes_allmods_vol = np.zeros((12,len(preprocessed_models)))\n",
    "r2_allmods_vol = np.zeros((12,len(preprocessed_models)))\n",
    "\n",
    "for i,mod in enumerate(preprocessed_models):\n",
    "    # Plot slopes for all models\n",
    "    slopes_plot_vol = np.zeros((2,12))\n",
    "\n",
    "    for im, m in enumerate(all_months):\n",
    "        slopes_plot_vol[1,im] = slopes_all[mod][im]\n",
    "        slopes_plot_vol[0,im] = r_all[mod][im]**2\n",
    "            \n",
    "    slopes_plot_all_vol[mod] = slopes_plot_vol\n",
    "    slopes_allmods_vol[:,i] = slopes_plot_vol[1,:]\n",
    "    r2_allmods_vol[:,i] = slopes_plot_vol[0,:]"
   ]
  },
  {
   "cell_type": "code",
   "execution_count": null,
   "metadata": {},
   "outputs": [],
   "source": [
    "fig = plt.figure(figsize=(10,6))\n",
    "\n",
    "slope_MMmean_vol = np.mean(slopes_allmods_vol,axis=1)\n",
    "\n",
    "for mod in preprocessed_models:\n",
    "    plt.scatter(np.arange(0,12,1),slopes_plot_all_vol[mod][1,:],label=mod,color='coral', marker='_', s=400)\n",
    "\n",
    "plt.scatter(np.arange(0,12,1),slope_MMmean_vol,label='multi-model mean', color='k', marker='_', s=400, linewidth=5)\n",
    "#plt.fill_between(np.arange(0,12,1), 0.2*1e11, -1.5*1e11, where=r2_MMmean_vol>r2_thresh,facecolor='royalblue', alpha=0.2)\n",
    "\n",
    "plt.ylim(-1.5*1e11,0.2*1e11)\n",
    "plt.xticks(np.arange(0, len(all_months), 1),month_names,fontsize=14,rotation='vertical')\n",
    "plt.legend(bbox_to_anchor=[1.01, 1.01])\n",
    "plt.ylabel('Slope (m$^3$ per $^{o}$C)', fontsize=16)\n",
    "plt.title('Slope: Artic mean volume vs. surface temperature', fontsize=18)\n",
    "\n",
    "#    plt.yticks([0.5,1.5],['R$^2$','Slope'],fontsize=14)"
   ]
  },
  {
   "cell_type": "code",
   "execution_count": null,
   "metadata": {},
   "outputs": [],
   "source": [
    "fig = plt.figure(figsize=(10,6))\n",
    "\n",
    "r2_thresh = 0.5\n",
    "r2_MMmean_vol = np.mean(r2_allmods,axis=1)\n",
    "\n",
    "for mod in preprocessed_models:\n",
    "    plt.scatter(np.arange(0,12,1),slopes_plot_all_vol[mod][0,:],label=mod, color='royalblue',marker='_', s=400)\n",
    "\n",
    "plt.scatter(np.arange(0,13,1),r2_MMmean_vol,label='multi-model mean', color='k',marker='_', s=400,linewidth=5)\n",
    "#plt.fill_between(np.arange(0,12,1), -0.1, 1, where=slope_MMmean_vol<-0.2*1e11,facecolor='coral', alpha=0.3)\n",
    "\n",
    "#plt.axhline(0.5, color='k',linestyle='--')\n",
    "\n",
    "plt.ylim(-0.1, 1)\n",
    "plt.xticks(np.arange(0, len(all_months)+1, 1),month_names,fontsize=14,rotation='vertical')\n",
    "plt.legend(bbox_to_anchor=[1.01, 1.01])\n",
    "plt.ylabel('R$^2$ value', fontsize=16)\n",
    "plt.title('R$^2$ value: Artic mean volume vs. surface temperature', fontsize=18)\n",
    "\n",
    "#    plt.yticks([0.5,1.5],['R$^2$','Slope'],fontsize=14)"
   ]
  },
  {
   "cell_type": "code",
   "execution_count": null,
   "metadata": {},
   "outputs": [],
   "source": []
  },
  {
   "cell_type": "code",
   "execution_count": null,
   "metadata": {},
   "outputs": [],
   "source": []
  },
  {
   "cell_type": "code",
   "execution_count": null,
   "metadata": {},
   "outputs": [],
   "source": []
  },
  {
   "cell_type": "code",
   "execution_count": null,
   "metadata": {},
   "outputs": [],
   "source": []
  },
  {
   "cell_type": "code",
   "execution_count": null,
   "metadata": {},
   "outputs": [],
   "source": []
  },
  {
   "cell_type": "code",
   "execution_count": null,
   "metadata": {},
   "outputs": [],
   "source": []
  }
 ],
 "metadata": {
  "kernelspec": {
   "display_name": "CMIP6 2019.10a",
   "language": "python",
   "name": "cmip6-201910a"
  },
  "language_info": {
   "codemirror_mode": {
    "name": "ipython",
    "version": 3
   },
   "file_extension": ".py",
   "mimetype": "text/x-python",
   "name": "python",
   "nbconvert_exporter": "python",
   "pygments_lexer": "ipython3",
   "version": "3.7.3"
  }
 },
 "nbformat": 4,
 "nbformat_minor": 4
}
