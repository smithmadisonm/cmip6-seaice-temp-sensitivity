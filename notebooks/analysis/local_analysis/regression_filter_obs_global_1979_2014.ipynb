{
 "cells": [
  {
   "cell_type": "markdown",
   "metadata": {},
   "source": [
    "# Filtered regression obs 1979-2014\n",
    "\n",
    "# I think we'll use 8 year high and low pass filters. Should mean ENSO is high freq but everything longer is low freq.\n",
    "\n",
    "# Should we just be filtering temperature and not sea ice? Don't think so."
   ]
  },
  {
   "cell_type": "code",
   "execution_count": null,
   "metadata": {},
   "outputs": [],
   "source": []
  },
  {
   "cell_type": "code",
   "execution_count": null,
   "metadata": {},
   "outputs": [],
   "source": []
  },
  {
   "cell_type": "code",
   "execution_count": null,
   "metadata": {},
   "outputs": [],
   "source": [
    "import xarray as xr\n",
    "import numpy as np\n",
    "import pandas as pd\n",
    "import scipy.stats as stats \n",
    "import os as os\n",
    "import warnings\n",
    "import matplotlib.pyplot as plt\n",
    "\n",
    "from IPython.display import clear_output\n",
    "from scipy import signal"
   ]
  },
  {
   "cell_type": "code",
   "execution_count": null,
   "metadata": {},
   "outputs": [],
   "source": [
    "import preprocess_utils as pputils\n",
    "import analysis_utils as autils "
   ]
  },
  {
   "cell_type": "markdown",
   "metadata": {},
   "source": [
    "## Load observational data (need to update with three different versions of sea ice sat data): "
   ]
  },
  {
   "cell_type": "code",
   "execution_count": null,
   "metadata": {},
   "outputs": [],
   "source": [
    "all_months = [1,2,3,4,5,6,7,8,9,10,11,12]\n",
    "month_names = ['Jan','Feb','Mar','Apr','May','June','July','Aug','Sept','Oct','Nov','Dec','Annual']"
   ]
  },
  {
   "cell_type": "markdown",
   "metadata": {},
   "source": [
    "#### t2m: "
   ]
  },
  {
   "cell_type": "code",
   "execution_count": null,
   "metadata": {},
   "outputs": [],
   "source": [
    "era_path = '/glade/work/rclancy/monthly_tas_ERA5.nc'\n",
    "era_data = xr.load_dataset(era_path)\n",
    "era_data = pputils.rename_lat_lon(era_data)\n",
    "era_data = pputils.rename_dimensions(era_data, '')"
   ]
  },
  {
   "cell_type": "code",
   "execution_count": null,
   "metadata": {},
   "outputs": [],
   "source": [
    "# Selecting just 40years from 1979 to 2014\n",
    "era_data = era_data.sel(time=slice(\"1979-01-01\", \"2014-12-31\"))"
   ]
  },
  {
   "cell_type": "code",
   "execution_count": null,
   "metadata": {},
   "outputs": [],
   "source": [
    "era_data['t2m_arc_mean'] = autils.calc_arctic_mean(era_data.t2m.isel(expver=0), -92)\n",
    "era_data['t2m_arc_mean_climo'] = era_data.t2m_arc_mean.groupby('time.month').mean()\n",
    "era_data['t2m_arc_mean_anom'] = era_data.t2m_arc_mean.groupby('time.month') - era_data['t2m_arc_mean_climo']"
   ]
  },
  {
   "cell_type": "code",
   "execution_count": null,
   "metadata": {},
   "outputs": [],
   "source": [
    "# Check annual cycle and monthly anoms look good.\n",
    "plt.plot(era_data.time, era_data['t2m_arc_mean'] - 285)\n",
    "plt.plot(era_data.time, era_data['t2m_arc_mean_anom'])"
   ]
  },
  {
   "cell_type": "code",
   "execution_count": null,
   "metadata": {},
   "outputs": [],
   "source": [
    "era_data['t2m_arc_mean_annual'] = era_data.t2m_arc_mean.groupby('time.year').mean()\n",
    "era_data['t2m_arc_mean_annual_anom'] = era_data.t2m_arc_mean_annual - era_data.t2m_arc_mean_annual.mean(dim='year')"
   ]
  },
  {
   "cell_type": "code",
   "execution_count": null,
   "metadata": {},
   "outputs": [],
   "source": [
    "# Check annual anoms look good.\n",
    "plt.plot(era_data.year, era_data['t2m_arc_mean_annual'] - 290)\n",
    "plt.plot(era_data.year, era_data['t2m_arc_mean_annual_anom'])"
   ]
  },
  {
   "cell_type": "code",
   "execution_count": null,
   "metadata": {},
   "outputs": [],
   "source": [
    "# Butterworth filter functions\n",
    "\n",
    "def butter_filt(x, filt_year, fs, order_butter, ftype):\n",
    "    #filt_year = 1 #1 year\n",
    "    #fs = 12 #monthly data\n",
    "    # if ftype = band provide filt_year as a list or np array\n",
    "    #fn = fs/2; # Nyquist Frequency\n",
    "    fc = (1 / np.array(filt_year)) / 2 # cut off frequency 1sample/ 1year = (1/1)/2 equals 1 year filter (two half cycles/sample)\n",
    "    #fc = (1/2)/2 # cut off frequency 1sample/ 2year = (1/1)/2 equals 2 year filter (two half cycles/sample)\n",
    "    #fc = (1/4)/2 # cut off frequency 1sample/ 4year = (1/1)/2 equals 4 year filter (two half cycles/sample)\n",
    "    #ftype = \"low\", \"high\" or \"band\"\n",
    "    b, a = signal.butter(order_butter, fc, ftype, fs=fs, output='ba')\n",
    "\n",
    "    return signal.filtfilt(b, a, x)\n",
    "\n",
    "def filtfilt_butter(x, filt_year, fs, order_butter, ftype, dim='time'):\n",
    "    # x ...... xr data array\n",
    "    # dims .... dimension aong which to apply function    \n",
    "    filt = xr.apply_ufunc(\n",
    "                butter_filt,  # first the function\n",
    "                x,# now arguments in the order expected by 'butter_filt'\n",
    "                filt_year,  # as above\n",
    "                fs,  # as above\n",
    "                order_butter,  # as above\n",
    "                ftype,\n",
    "                input_core_dims=[[dim], [], [], [], []],  # list with one entry per arg\n",
    "                output_core_dims=[[dim]],  # returned data has 3 dimension\n",
    "                exclude_dims=set((dim,)),  # dimensions allowed to change size. Must be a set!\n",
    "                vectorize=True,  # loop over non-core dims\n",
    "                )\n",
    "\n",
    "    return filt\n",
    "\n",
    "def filtfilt_butter_monthly(x, filt_year, fs, order_butter, ftype, dim='time'):\n",
    "    \"\"\"\n",
    "    Use this to filter each month of a timeseries separately and combine\n",
    "    \n",
    "    in:\n",
    "    x = unfiltered vector time series e.g.: era_data['t2m_arc_mean_anom']\n",
    "    others as for filtfilt_butter\n",
    "    \n",
    "    out:\n",
    "    temp = filtered output\n",
    "    \"\"\"\n",
    "    temp = np.zeros_like(x) * np.nan\n",
    "    for m in range(0, 12):\n",
    "        temp[m : len(temp) : 12] = filtfilt_butter(x.sel(time=x.time.dt.month == m+1),\n",
    "                                                  filt_year=filt_year, fs=fs, order_butter=order_butter,\n",
    "                                                  ftype=ftype, dim=dim)\n",
    "    temp = xr.DataArray(temp, coords={'time': x.time}, dims=['time'])\n",
    "    return temp"
   ]
  },
  {
   "cell_type": "code",
   "execution_count": null,
   "metadata": {},
   "outputs": [],
   "source": [
    "# Choosing 8 years for cutoff as this should keep ENSO as interannual variability\n",
    "\n",
    "# Monthly\n",
    "era_data['t2m_arc_mean_anom_low_8'] = filtfilt_butter_monthly(era_data['t2m_arc_mean_anom'],\n",
    "                                                            filt_year=8, fs=1, order_butter=5,\n",
    "                                                            ftype='low', dim='time')\n",
    "\n",
    "era_data['t2m_arc_mean_anom_high_8'] = filtfilt_butter_monthly(era_data['t2m_arc_mean_anom'],\n",
    "                                                            filt_year=8, fs=1, order_butter=5,\n",
    "                                                            ftype='high', dim='time')\n",
    "\n",
    "# Annual\n",
    "era_data['t2m_arc_mean_annual_anom_low_8'] = filtfilt_butter(era_data.t2m_arc_mean_annual_anom,\n",
    "                                                           filt_year=8, fs=1, order_butter=5,\n",
    "                                                           ftype=\"low\", dim='year')\n",
    "\n",
    "era_data['t2m_arc_mean_annual_anom_high_8'] = filtfilt_butter(era_data.t2m_arc_mean_annual_anom,\n",
    "                                                           filt_year=8, fs=1, order_butter=5,\n",
    "                                                           ftype=\"high\", dim='year')"
   ]
  },
  {
   "cell_type": "code",
   "execution_count": null,
   "metadata": {},
   "outputs": [],
   "source": [
    "# Checking low pass filtered data (looks weird but fine if you plot each month separately)\n",
    "plt.plot(era_data.time, era_data['t2m_arc_mean_anom_low_8'])\n",
    "plt.plot(era_data.time[3:480:12], era_data['t2m_arc_mean_anom_low_8'][3:480:12])\n",
    "plt.plot(era_data.time[9:480:12], era_data['t2m_arc_mean_anom_low_8'][9:480:12])"
   ]
  },
  {
   "cell_type": "code",
   "execution_count": null,
   "metadata": {},
   "outputs": [],
   "source": [
    "# Checking low pass filtered data\n",
    "plt.plot(era_data.time, era_data['t2m_arc_mean_anom'])\n",
    "plt.plot(era_data.time, era_data['t2m_arc_mean_anom_high_8'])"
   ]
  },
  {
   "cell_type": "markdown",
   "metadata": {},
   "source": [
    "#### sie: "
   ]
  },
  {
   "cell_type": "code",
   "execution_count": null,
   "metadata": {},
   "outputs": [],
   "source": [
    "sat_path ='/glade/scratch/mkbren/cmip6_si_tas/satellite_data/Fetterer_etal_2017/sidads.colorado.edu/DATASETS/NOAA/G02135/north/monthly/data/'\n",
    "\n",
    "for i in np.arange(1,13,1):\n",
    "    sat_filename = 'N_'+f'{i:02d}' + '_extent_v3.0.csv'\n",
    "    df1 = pd.read_csv(sat_path+sat_filename)\n",
    "    if i ==1: \n",
    "        df2 = df1\n",
    "    else: \n",
    "        df2 = df2.append(df1)"
   ]
  },
  {
   "cell_type": "code",
   "execution_count": null,
   "metadata": {},
   "outputs": [],
   "source": [
    "df = df2.sort_values(['year',' mo'],ascending=True)\n",
    "df_nonans = df.where(df[' extent']>0)"
   ]
  },
  {
   "cell_type": "code",
   "execution_count": null,
   "metadata": {},
   "outputs": [],
   "source": [
    "# Select 1979-2014 (this is 36 complete years of data (other than a couple of nans in the middle))\n",
    "df_nonans = df_nonans[2:-71]\n",
    "df_nonans"
   ]
  },
  {
   "cell_type": "code",
   "execution_count": null,
   "metadata": {},
   "outputs": [],
   "source": [
    "# Get sea ice extent time series\n",
    "sie_1979_2014 = df_nonans[' extent'].values\n",
    "print(sie_1979_2014.shape)"
   ]
  },
  {
   "cell_type": "code",
   "execution_count": null,
   "metadata": {},
   "outputs": [],
   "source": [
    "# Fill nans linearly between years to make climatology\n",
    "sie_1979_2014_fill = np.zeros(len(sie_1979_2014))\n",
    "for t in range(0, len(sie_1979_2014)): \n",
    "    if np.isnan(sie_1979_2014[t]):\n",
    "        sie_1979_2014_fill[t] = (sie_1979_2014[t+12] + sie_1979_2014[t-12])/2\n",
    "    else:\n",
    "        sie_1979_2014_fill[t] = sie_1979_2014[t]"
   ]
  },
  {
   "cell_type": "code",
   "execution_count": null,
   "metadata": {},
   "outputs": [],
   "source": [
    "plt.plot(era_data.time, sie_1979_2014_fill)\n",
    "plt.plot(era_data.time, sie_1979_2014)"
   ]
  },
  {
   "cell_type": "code",
   "execution_count": null,
   "metadata": {},
   "outputs": [],
   "source": [
    "# N.b. climo is the same as calulated by Katie\n",
    "sie_clim_fill = np.zeros(12)\n",
    "for m in range(0, 12):\n",
    "    mo_index = list(range(m, len(sie_1979_2014), 12))\n",
    "    sie_clim_fill[m] = np.nanmean(sie_1979_2014_fill[mo_index])\n",
    "\n",
    "plt.plot(sie_clim_fill)"
   ]
  },
  {
   "cell_type": "code",
   "execution_count": null,
   "metadata": {},
   "outputs": [],
   "source": [
    "# Getting sea ice extent anomalies for every month\n",
    "sie_1979_2014_anom = sie_1979_2014 - np.tile(sie_clim_fill, 36)\n",
    "sie_1979_2014_anom_fill = sie_1979_2014_fill - np.tile(sie_clim_fill, 36) #needed for detrending\n",
    "plt.plot(df_nonans['year'] + (df_nonans[' mo']-1)/12, sie_1979_2014_anom)"
   ]
  },
  {
   "cell_type": "code",
   "execution_count": null,
   "metadata": {},
   "outputs": [],
   "source": [
    "# Checking out march and september anomalies\n",
    "# Looks like greater trend in sept which is good\n",
    "plt.plot(sie_1979_2014_anom[list(range(3, 36*12, 12))])\n",
    "plt.plot(sie_1979_2014_anom[list(range(9, 36*12, 12))], 'r')"
   ]
  },
  {
   "cell_type": "code",
   "execution_count": null,
   "metadata": {},
   "outputs": [],
   "source": [
    "era_data['sie_arc_mean_anom'] = xr.DataArray(sie_1979_2014_anom, coords={\"time\":era_data.time}, dims={'time':era_data.time})\n",
    "era_data['sie_arc_mean_annual'] = era_data.sie_arc_mean_anom.groupby('time.year').mean()\n",
    "era_data['sie_arc_mean_annual_anom'] = era_data.sie_arc_mean_annual - era_data.sie_arc_mean_annual.mean(dim='year')"
   ]
  },
  {
   "cell_type": "code",
   "execution_count": null,
   "metadata": {},
   "outputs": [],
   "source": [
    "era_data['sie_arc_mean_anom_fill'] = xr.DataArray(sie_1979_2014_anom_fill, coords={\"time\":era_data.time}, dims={'time':era_data.time})"
   ]
  },
  {
   "cell_type": "code",
   "execution_count": null,
   "metadata": {},
   "outputs": [],
   "source": [
    "# Apply 8 year butterworth filter (n.b. using filled in values for filter as can't filter with nans)\n",
    "\n",
    "era_data['sie_arc_mean_anom_low_8'] = filtfilt_butter_monthly(era_data['sie_arc_mean_anom_fill'],\n",
    "                                                            filt_year=8, fs=1, order_butter=5,\n",
    "                                                            ftype='low', dim='time')\n",
    "\n",
    "era_data['sie_arc_mean_anom_high_8'] = filtfilt_butter_monthly(era_data['sie_arc_mean_anom_fill'],\n",
    "                                                             filt_year=8, fs=1, order_butter=5,\n",
    "                                                             ftype='high', dim='time')\n",
    "\n",
    "era_data['sie_arc_mean_annual_anom_low_8'] = filtfilt_butter(era_data.sie_arc_mean_annual_anom,\n",
    "                                                           filt_year=8, fs=1, order_butter=5,\n",
    "                                                           ftype=\"low\", dim='year')\n",
    "\n",
    "era_data['sie_arc_mean_annual_anom_high_8'] = filtfilt_butter(era_data.sie_arc_mean_annual_anom,\n",
    "                                                           filt_year=8, fs=1, order_butter=5,\n",
    "                                                           ftype=\"high\", dim='year')"
   ]
  },
  {
   "cell_type": "code",
   "execution_count": null,
   "metadata": {},
   "outputs": [],
   "source": [
    "# Now removing months with filled data\n",
    "era_data['sie_arc_mean_anom_low_8'][np.isnan(era_data['sie_arc_mean_anom'])] = np.nan\n",
    "era_data['sie_arc_mean_anom_high_8'][np.isnan(era_data['sie_arc_mean_anom'])] = np.nan"
   ]
  },
  {
   "cell_type": "code",
   "execution_count": null,
   "metadata": {},
   "outputs": [],
   "source": [
    "# Checking monthly low pass filtered\n",
    "plt.plot(era_data.time, era_data['sie_arc_mean_anom'])\n",
    "plt.plot(era_data.time, era_data['sie_arc_mean_anom_low_8'])\n",
    "plt.plot(era_data.time[3:480:12], era_data['sie_arc_mean_anom_low_8'][3:480:12])\n",
    "plt.plot(era_data.time[9:480:12], era_data['sie_arc_mean_anom_low_8'][9:480:12])"
   ]
  },
  {
   "cell_type": "code",
   "execution_count": null,
   "metadata": {},
   "outputs": [],
   "source": [
    "plt.plot(era_data['sie_arc_mean_anom'].sel(time=era_data.time.dt.month==3), 'b')\n",
    "plt.plot(era_data['sie_arc_mean_anom_low_8'].sel(time=era_data.time.dt.month==3), 'b')\n",
    "plt.plot(era_data['sie_arc_mean_anom'].sel(time=era_data.time.dt.month==9), 'r')\n",
    "plt.plot(era_data['sie_arc_mean_anom_low_8'].sel(time=era_data.time.dt.month==9), 'r')"
   ]
  },
  {
   "cell_type": "code",
   "execution_count": null,
   "metadata": {},
   "outputs": [],
   "source": [
    "# Check monthly high pass filtered\n",
    "plt.plot(era_data['sie_arc_mean_anom'])\n",
    "plt.plot(era_data['sie_arc_mean_anom_high_8'])"
   ]
  },
  {
   "cell_type": "code",
   "execution_count": null,
   "metadata": {},
   "outputs": [],
   "source": [
    "# Annual looking good\n",
    "plt.plot(era_data['sie_arc_mean_annual_anom'])\n",
    "plt.plot(era_data['sie_arc_mean_annual_anom_low_8'])\n",
    "plt.plot(era_data['sie_arc_mean_annual_anom_high_8'])"
   ]
  },
  {
   "cell_type": "markdown",
   "metadata": {},
   "source": [
    "#### Regress across full time period: "
   ]
  },
  {
   "cell_type": "code",
   "execution_count": null,
   "metadata": {},
   "outputs": [],
   "source": [
    "[slopes_obs, r_obs, intercept_obs] = autils.scatter_linreg(era_data['t2m_arc_mean_anom'],\n",
    "                                                           era_data['sie_arc_mean_anom'],\n",
    "                                                           era_data, all_months,\n",
    "                                                           'obs', plotflag=False)\n",
    "\n",
    "[slopes_obs_low_8, r_obs_low_8, intercept_obs_low_8] = autils.scatter_linreg(era_data['t2m_arc_mean_anom_low_8'],\n",
    "                                                                       era_data['sie_arc_mean_anom_low_8'],\n",
    "                                                                       era_data, all_months,\n",
    "                                                                       'obs', plotflag=False)\n",
    "\n",
    "[slopes_obs_high_8, r_obs_high_8, intercept_obs_high_8] = autils.scatter_linreg(era_data['t2m_arc_mean_anom_high_8'],\n",
    "                                                                          era_data['sie_arc_mean_anom_high_8'],\n",
    "                                                                          era_data, all_months,\n",
    "                                                                          'obs', plotflag=False)"
   ]
  },
  {
   "cell_type": "code",
   "execution_count": null,
   "metadata": {},
   "outputs": [],
   "source": [
    "[_, _, _] = autils.scatter_linreg(era_data['t2m_arc_mean_anom'],\n",
    "                                 era_data['sie_arc_mean_anom'],\n",
    "                                 era_data, [3, 9],\n",
    "                                 'obs', plotflag=True)\n",
    "\n",
    "[_, _, _] = autils.scatter_linreg(era_data['t2m_arc_mean_anom_low_8'],\n",
    "                                 era_data['sie_arc_mean_anom_low_8'],\n",
    "                                 era_data, [3, 9],\n",
    "                                 'obs', plotflag=True)\n",
    "\n",
    "[_, _, _] = autils.scatter_linreg(era_data['t2m_arc_mean_anom_high_8'],\n",
    "                                 era_data['sie_arc_mean_anom_high_8'],\n",
    "                                 era_data, [3, 9],\n",
    "                                 'obs', plotflag=True)"
   ]
  },
  {
   "cell_type": "code",
   "execution_count": null,
   "metadata": {},
   "outputs": [],
   "source": [
    "slope_an, intercept_annual, r_value_annual, _, _ = stats.linregress(era_data.t2m_arc_mean_annual_anom,\n",
    "                                                                    era_data.sie_arc_mean_annual_anom)\n",
    "print(slope_an, r_value_annual**2)\n",
    "\n",
    "\n",
    "slope_an_low_8, intercept_annual_low_8, r_value_annual_low_8, _, _ = stats.linregress(era_data.t2m_arc_mean_annual_anom_low_8,\n",
    "                                                                    era_data.sie_arc_mean_annual_anom_low_8)\n",
    "print(slope_an_low_8, r_value_annual_low_8**2)\n",
    "\n",
    "slope_an_high_8, intercept_annual_high_8, r_value_annual_high_8, _, _ = stats.linregress(era_data.t2m_arc_mean_annual_anom_high_8,\n",
    "                                                                    era_data.sie_arc_mean_annual_anom_high_8)\n",
    "print(slope_an_high_8, r_value_annual_high_8**2)"
   ]
  },
  {
   "cell_type": "code",
   "execution_count": null,
   "metadata": {},
   "outputs": [],
   "source": [
    "plt.plot(era_data.t2m_arc_mean_annual_anom, era_data.sie_arc_mean_annual_anom, '.k')\n",
    "plt.plot(era_data.t2m_arc_mean_annual_anom_low_8, era_data.sie_arc_mean_annual_anom_low_8, 'k')\n",
    "plt.plot(era_data.t2m_arc_mean_annual_anom_low_8, era_data.sie_arc_mean_annual_anom_high_8, '.r')"
   ]
  },
  {
   "cell_type": "code",
   "execution_count": null,
   "metadata": {},
   "outputs": [],
   "source": [
    "months = list(range(1, 12+1))\n",
    "\n",
    "plt.hlines(0, 1, 13, 'grey')\n",
    "plt.plot(months, slopes_obs, 'k')\n",
    "plt.plot(months, slopes_obs_low_8, 'b')\n",
    "plt.plot(months, slopes_obs_high_8, 'r')\n",
    "\n",
    "plt.plot(13, slope_an, '*k')\n",
    "plt.plot(13, slope_an_low_8, '*b')\n",
    "plt.plot(13, slope_an_high_8, '*r')\n",
    "\n",
    "plt.xlabel('Month')\n",
    "plt.ylabel('Slope');\n",
    "\n",
    "# Why not shoulder seasons like Katie's?"
   ]
  },
  {
   "cell_type": "code",
   "execution_count": null,
   "metadata": {},
   "outputs": [],
   "source": [
    "months = np.array(list(range(1, 12+1)))\n",
    "\n",
    "plt.hlines(0, 1, 13, 'grey')\n",
    "plt.hlines(1, 1, 13, 'grey')\n",
    "plt.plot(months, np.array(r_obs) ** 2, 'k')\n",
    "plt.plot(months, np.array(r_obs_low_8) ** 2, 'b')\n",
    "plt.plot(months, np.array(r_obs_high_8) ** 2, 'r')\n",
    "\n",
    "plt.plot(13, np.array(r_value_annual) ** 2, '*k')\n",
    "plt.plot(13, np.array(r_value_annual_low_8) ** 2, '*b')\n",
    "plt.plot(13, np.array(r_value_annual_high_8) ** 2, '*r')\n",
    "\n",
    "plt.xlabel('Month')\n",
    "plt.ylabel('R $^2$');"
   ]
  },
  {
   "cell_type": "markdown",
   "metadata": {},
   "source": [
    "## Save reuslts (code not written yet)"
   ]
  },
  {
   "cell_type": "code",
   "execution_count": null,
   "metadata": {},
   "outputs": [],
   "source": [
    "#sstr = 'slopes_obs_filt_5_37_years_1979_2014.npz'\n",
    "#np.savez(sstr,\n",
    "#         slopes_annual_mean = slopes_annual_mean,\n",
    "#         slopes_mean = slopes_mean)\n",
    "\n",
    "# Load results\n",
    "# meh = np.load(sstr, allow_pickle=True)\n",
    "# meh.files\n",
    "# meh['slopes_annual_mean'][()]\n",
    "# meh['slopes_mm_mean'].shape"
   ]
  },
  {
   "cell_type": "code",
   "execution_count": null,
   "metadata": {},
   "outputs": [],
   "source": [
    "#sstr = 'r_obs_windows_5_37_years_1979_2014.npz'\n",
    "#np.savez(sstr,\n",
    "#         r_annual_mean = r_annual_mean,\n",
    "#         r_mean = r_mean)\n",
    "\n",
    "# Load results\n",
    "# meh = np.load(sstr, allow_pickle=True)\n",
    "# meh.files\n",
    "# meh['r_annual_mean'][()]\n",
    "# meh['r_mm_mean'].shape"
   ]
  },
  {
   "cell_type": "code",
   "execution_count": null,
   "metadata": {},
   "outputs": [],
   "source": []
  },
  {
   "cell_type": "code",
   "execution_count": null,
   "metadata": {},
   "outputs": [],
   "source": [
    "slope_an, intercept_annual, r_value_annual, _, _ = stats.linregress(era_data.t2m_arc_mean_annual_anom,\n",
    "                                                                    era_data.sie_arc_mean_annual_anom)"
   ]
  },
  {
   "cell_type": "code",
   "execution_count": null,
   "metadata": {},
   "outputs": [],
   "source": [
    "slopes_sept, r_sept, intercept_sept = [], [], []\n",
    "slopes_sept_low_8, r_sept_low_8, intercept_sept_low_8 = [], [], []\n",
    "slopes_sept_high_8, r_sept_high_8, intercept_sept_high_8 = [], [], []\n",
    "\n",
    "sie_sept = era_data.sie_arc_mean_anom.sel(time=era_data.time.dt.month.isin([9]))\n",
    "sie_sept_low_8 = era_data.sie_arc_mean_anom_low_8.sel(time=era_data.time.dt.month.isin([9]))\n",
    "sie_sept_high_8 = era_data.sie_arc_mean_anom_high_8.sel(time=era_data.time.dt.month.isin([9]))\n",
    "for i in range(1, 12+1):\n",
    "    t2m_mo = era_data.t2m_arc_mean_anom.sel(time=era_data.time.dt.month.isin([i]))\n",
    "    t2m_mo_low_8 = era_data.t2m_arc_mean_anom_low_8.sel(time=era_data.time.dt.month.isin([i]))\n",
    "    t2m_mo_high_8 = era_data.t2m_arc_mean_anom_high_8.sel(time=era_data.time.dt.month.isin([i]))\n",
    "\n",
    "    slope, intercept, r, _, _ = stats.linregress(t2m_mo, sie_sept)\n",
    "    slope_low_8, intercept_low_8, r_low_8, _, _ = stats.linregress(t2m_mo_low_8, sie_sept_low_8)\n",
    "    slope_high_8, intercept_high_8, r_high_8, _, _ = stats.linregress(t2m_mo_high_8, sie_sept_high_8)\n",
    "    \n",
    "    slopes_sept.append(slope)\n",
    "    r_sept.append(r)\n",
    "    intercept_sept.append(intercept)\n",
    "    \n",
    "    slopes_sept_low_8.append(slope_low_8)\n",
    "    r_sept_low_8.append(r_low_8)\n",
    "    intercept_sept_low_8.append(intercept_low_8)\n",
    "    \n",
    "    slopes_sept_high_8.append(slope_high_8)\n",
    "    r_sept_high_8.append(r_high_8)\n",
    "    intercept_sept_high_8.append(intercept_high_8)"
   ]
  },
  {
   "cell_type": "code",
   "execution_count": null,
   "metadata": {},
   "outputs": [],
   "source": [
    "plt.plot(slopes_sept, 'k')\n",
    "plt.plot(slopes_sept_low_8, 'b')\n",
    "plt.plot(slopes_sept_high_8, 'r')"
   ]
  },
  {
   "cell_type": "code",
   "execution_count": null,
   "metadata": {},
   "outputs": [],
   "source": [
    "plt.plot(r_sept, 'k')\n",
    "plt.plot(r_sept_low_8, 'b')\n",
    "plt.plot(r_sept_high_8, 'r')"
   ]
  },
  {
   "cell_type": "code",
   "execution_count": null,
   "metadata": {},
   "outputs": [],
   "source": []
  }
 ],
 "metadata": {
  "kernelspec": {
   "display_name": "CMIP6 2019.10a",
   "language": "python",
   "name": "cmip6-201910a"
  },
  "language_info": {
   "codemirror_mode": {
    "name": "ipython",
    "version": 3
   },
   "file_extension": ".py",
   "mimetype": "text/x-python",
   "name": "python",
   "nbconvert_exporter": "python",
   "pygments_lexer": "ipython3",
   "version": "3.7.3"
  }
 },
 "nbformat": 4,
 "nbformat_minor": 4
}
