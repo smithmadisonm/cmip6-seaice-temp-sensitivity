{
 "cells": [
  {
   "cell_type": "markdown",
   "metadata": {},
   "source": [
    "# Exploring what models we have and running preprocess_local.py"
   ]
  },
  {
   "cell_type": "code",
   "execution_count": null,
   "metadata": {},
   "outputs": [],
   "source": [
    "import os, sys \n",
    "import numpy as np\n",
    "import xarray as xr\n",
    "import warnings\n",
    "import matplotlib.pyplot as plt\n",
    "\n",
    "sys.path.insert(1, '../')\n",
    "#from load_utils import get_cmip6_catalogue,find_overlap_models,rename_dimensions,rename_lat_lon"
   ]
  },
  {
   "cell_type": "code",
   "execution_count": null,
   "metadata": {},
   "outputs": [],
   "source": [
    "import preprocess_utils as pputils\n",
    "import analysis_utils as autils "
   ]
  },
  {
   "cell_type": "markdown",
   "metadata": {},
   "source": [
    "### List areacell files that are on glade"
   ]
  },
  {
   "cell_type": "code",
   "execution_count": null,
   "metadata": {},
   "outputs": [],
   "source": [
    "areacello_files,areacella_files,areacella_models = pputils.find_cellarea_files_local()\n",
    "\n",
    "areacello_models_local = [d[14:-15].split('_')[0] for d in areacello_files]\n",
    "areacella_models_local = [d[13:-15].split('_')[0] for d in areacella_files]\n",
    "\n",
    "areacello_models_local"
   ]
  },
  {
   "cell_type": "markdown",
   "metadata": {},
   "source": [
    "### List all models that are downloaded in given directory for all experiments and variables: "
   ]
  },
  {
   "cell_type": "code",
   "execution_count": null,
   "metadata": {},
   "outputs": [],
   "source": [
    "p = '/glade/scratch/mmsmith/CMIP6/cmip6_downloader/'\n",
    "experiments = ['historical','piControl','ssp370']\n",
    "variables = {'siconc':'SImon_', 'tas':'Amon_', 'sithick':'SImon_','areacella':'fx_','areacello':'Ofx_'}\n",
    "\n",
    "directories = pputils.get_directories(p)\n",
    "directories.remove('.git')\n",
    "directories.remove('test')\n",
    "\n",
    "models = pputils.get_models(directories, variables, experiments, p)"
   ]
  },
  {
   "cell_type": "markdown",
   "metadata": {},
   "source": [
    "### List models available for each experiment (available for at least one variable)"
   ]
  },
  {
   "cell_type": "code",
   "execution_count": null,
   "metadata": {},
   "outputs": [],
   "source": [
    "models_picontrol = list(set(models['siconc_mon_piControl'])&set(models['tas_mon_piControl']&set(models['sithick_mon_piControl'])))\n",
    "models_historical = (set(models['siconc_mon_historical'])&set(models['tas_mon_historical']&set(models['sithick_mon_historical'])))\n",
    "models_ssp370 = (set(models['siconc_mon_ssp370'])&set(models['tas_mon_ssp370']&set(models['sithick_mon_ssp370'])))\n",
    "\n",
    "len(models_picontrol), len(models_historical), len(models_ssp370)"
   ]
  },
  {
   "cell_type": "markdown",
   "metadata": {},
   "source": [
    "### Collect list of models and their grids: "
   ]
  },
  {
   "cell_type": "code",
   "execution_count": null,
   "metadata": {},
   "outputs": [],
   "source": [
    "var = ['siconc', 'sithick']\n",
    "exp = 'ssp370'\n",
    "model_grids = {}\n",
    "\n",
    "for v in var: \n",
    "    d = (v+'_mon_'+exp+'/')\n",
    "    files = os.listdir(p+d)\n",
    "\n",
    "    for m in models_picontrol: \n",
    "        filename = (v+'_'+variables[v]+m+'_'+exp+'_r1i1p1f1_')\n",
    "\n",
    "        for f in files: \n",
    "            if filename in f: \n",
    "                model_grids[m] = str(f[-19:-17])\n",
    "                break"
   ]
  },
  {
   "cell_type": "code",
   "execution_count": null,
   "metadata": {},
   "outputs": [],
   "source": [
    "model_grids"
   ]
  },
  {
   "cell_type": "markdown",
   "metadata": {},
   "source": [
    "### Here are lists of models without areacell files: "
   ]
  },
  {
   "cell_type": "code",
   "execution_count": null,
   "metadata": {},
   "outputs": [],
   "source": [
    "no_cellareao_picontrol = set(models_picontrol)-set(areacello_models_local)\n",
    "no_cellareao_historical = set(models_historical)-set(areacello_models_local)\n",
    "no_cellareao_ssp370 = set(models_ssp370)-set(areacello_models_local)\n",
    "no_cellareao_ssp370|no_cellareao_picontrol|no_cellareao_historical"
   ]
  },
  {
   "cell_type": "markdown",
   "metadata": {},
   "source": [
    "### This is the list of models we want to preprocess: "
   ]
  },
  {
   "cell_type": "code",
   "execution_count": null,
   "metadata": {},
   "outputs": [],
   "source": [
    "models_ssp370"
   ]
  },
  {
   "cell_type": "markdown",
   "metadata": {},
   "source": [
    "### Mistakes and things to investigate: \n",
    "\n",
    "##### Historical simulations: \n",
    "* 'ACCESS-CM2' - is giving and HDF error for 'siconc' processing \n",
    "\n",
    "##### piControl simulations: \n",
    "* datetime issue: 'EC-Earth3','MPI-ESM1-2-LR','EC-Earth3-Veg','EC-Earth3-LR','MPI-ESM-1-2-HAM', 'MPI-ESM1-2-HR'\n",
    "* HDF errors: 'ACCESS-ESM1-5','ACCESS-CM2'"
   ]
  },
  {
   "cell_type": "code",
   "execution_count": null,
   "metadata": {},
   "outputs": [],
   "source": [
    "models_historical_left = ['TaiESM1','AWI-ESM-1-1-LR','KIOST-ESM','NESM3']\n",
    "\n",
    "models_picontrol_error = ['NESM3','KIOST-ESM','AWI-ESM-1-1-LR']\n",
    "\n",
    "# These models have a datetime issue where the time object switches from a timestamp to Proleptic Gregorian datatime object half way through...\n",
    "models_picontrol_error_datetime =['EC-Earth3','MPI-ESM1-2-LR','EC-Earth3-Veg','EC-Earth3-LR',\n",
    "                                  'MPI-ESM-1-2-HAM','MPI-ESM1-2-HR']\n",
    "\n",
    "# HDF error: \n",
    "models_picontrol_error_HDF = ['ACCESS-ESM1-5','ACCESS-CM2']\n",
    "\n",
    "# HDF error: \n",
    "models_ssp370_error_HDF = ['ACCESS-CM2','MPI-ESM1-2-HR']\n",
    "\n",
    "models_ssp370_error = ['TaiESM1']\n",
    "#'MPI-ESM1-2-HR' - permission denied "
   ]
  },
  {
   "cell_type": "markdown",
   "metadata": {},
   "source": [
    "# Running the preprocessing: "
   ]
  },
  {
   "cell_type": "code",
   "execution_count": null,
   "metadata": {},
   "outputs": [],
   "source": [
    "%run preprocess_local"
   ]
  }
 ],
 "metadata": {
  "kernelspec": {
   "display_name": "CMIP6 2019.10a",
   "language": "python",
   "name": "cmip6-201910a"
  },
  "language_info": {
   "codemirror_mode": {
    "name": "ipython",
    "version": 3
   },
   "file_extension": ".py",
   "mimetype": "text/x-python",
   "name": "python",
   "nbconvert_exporter": "python",
   "pygments_lexer": "ipython3",
   "version": "3.7.3"
  }
 },
 "nbformat": 4,
 "nbformat_minor": 4
}
