{
 "cells": [
  {
   "cell_type": "code",
   "execution_count": null,
   "metadata": {},
   "outputs": [],
   "source": [
    "%matplotlib inline\n",
    "\n",
    "import intake\n",
    "import matplotlib.pyplot as plt\n",
    "import numpy as np\n",
    "import xarray as xr\n",
    "from scipy import stats\n",
    "import warnings\n",
    "\n",
    "import analysis_utils as au"
   ]
  },
  {
   "cell_type": "code",
   "execution_count": null,
   "metadata": {},
   "outputs": [],
   "source": [
    "import importlib\n",
    "importlib.reload(ru)"
   ]
  },
  {
   "cell_type": "markdown",
   "metadata": {},
   "source": [
    "#### Load dataset"
   ]
  },
  {
   "cell_type": "code",
   "execution_count": null,
   "metadata": {},
   "outputs": [],
   "source": [
    "# Load dataset\n",
    "collection_fname = 'dset_dict_historical.npy'\n",
    "#collection_fname = 'dset_dict_piControl.npy'\n",
    "\n",
    "dset_dict = np.load(collection_fname, allow_pickle='TRUE').item()\n",
    "first_dset = list(dset_dict.keys())[0]\n",
    "models_intersect = dset_dict[first_dset].keys()"
   ]
  },
  {
   "cell_type": "markdown",
   "metadata": {},
   "source": [
    "#### Regression of sea ice extent on arctic temperature for each model for multiple ensemble members"
   ]
  },
  {
   "cell_type": "code",
   "execution_count": null,
   "metadata": {},
   "outputs": [],
   "source": [
    "# Set maximum number of ensemble members to look at for each model\n",
    "#N.B. doing this for anomalies give you the same answer as not anomalies. Which makes sense when you think about it.\n",
    "max_ems = 5\n",
    "\n",
    "warnings.filterwarnings('ignore')\n",
    "\n",
    "slopes_all, r_all = {}, {}\n",
    "for m in models_intersect:\n",
    "    # get ensemble members\n",
    "    ems = dset_dict['siconc'][m]['member_id'].values\n",
    "    if len(ems)>max_ems:\n",
    "        ems = ems[0:max_ems]\n",
    "    print(m, len(ems))\n",
    "    \n",
    "    # Perform regression\n",
    "    slopes_all[m], r_all[m] = {}, {}\n",
    "    for i, em in enumerate(ems):\n",
    "        print(em)\n",
    "        slopes_all[m][i], r_all[m][i] = au.scatter_tas_SIE_linreg(\n",
    "                                                        dset_dict['tas'][m]['tas_arc_mean'].sel(member_id=em),\n",
    "                                                        dset_dict['siconc'][m]['sie_tot_arc'].sel(member_id=em),\n",
    "                                                        [2,8], False, m)\n",
    "\n",
    "warnings.filterwarnings('default')"
   ]
  },
  {
   "cell_type": "code",
   "execution_count": null,
   "metadata": {},
   "outputs": [],
   "source": [
    "# Calculate ensemble mean and r values for each model\n",
    "slopes_mean, r_mean = {}, {}\n",
    "\n",
    "print('Model, slopes (mar, sept), r (mar, sept)')\n",
    "print()\n",
    "for m in models_intersect:\n",
    "    slopes_mean_temp, r_mean_temp = [], []\n",
    "    for em in slopes_all[m].keys():\n",
    "        slopes_mean_temp.append(slopes_all[m][em])\n",
    "        r_mean_temp.append(r_all[m][em])        \n",
    "        \n",
    "    slopes_mean[m] = np.mean(slopes_mean_temp,0)\n",
    "    r_mean[m] = np.mean(r_mean_temp,0)\n",
    "    \n",
    "    print(m, slopes_mean[m], r_mean[m])"
   ]
  },
  {
   "cell_type": "markdown",
   "metadata": {},
   "source": [
    "#### Save"
   ]
  },
  {
   "cell_type": "code",
   "execution_count": null,
   "metadata": {},
   "outputs": [],
   "source": [
    "# Save dictionaries for future use\n",
    "results_fname = 'results_' + collection_fname[10:]\n",
    "save_flag = True\n",
    "if save_flag:\n",
    "    if dset_dict:\n",
    "        np.save(results_fname, slopes_mean, r_mean)"
   ]
  },
  {
   "cell_type": "markdown",
   "metadata": {},
   "source": [
    "#### Plots"
   ]
  },
  {
   "cell_type": "code",
   "execution_count": null,
   "metadata": {},
   "outputs": [],
   "source": [
    "# Plot slopes for all models\n",
    "slopes_plot = np.zeros((2,len(slopes_mean.keys())))\n",
    "\n",
    "for im, m in enumerate(slopes_mean.keys()):\n",
    "    slopes_plot[0,im] = slopes_mean[m][0]\n",
    "    slopes_plot[1,im] = slopes_mean[m][1]\n",
    "    \n",
    "fig = plt.figure(figsize=(10,6))\n",
    "plt.pcolormesh(slopes_plot, cmap='Reds_r')\n",
    "plt.clim(0, -1.2)\n",
    "plt.xticks(np.arange(0, len(models_intersect), 1) + 0.5,list(slopes_all.keys()),fontsize=14, rotation='vertical')\n",
    "plt.yticks([0.5,1.5],['March','September'],fontsize=14)\n",
    "plt.title('Slope: mean Arctic temperature vs. total Arctic sea ice extent', fontsize=18)\n",
    "plt.colorbar(label='Slope ((10$^{6}$ km$^{2}$)/K)')"
   ]
  },
  {
   "cell_type": "code",
   "execution_count": null,
   "metadata": {},
   "outputs": [],
   "source": [
    "# Plot R squared for all models\n",
    "r_plot = np.zeros((2,len(r_mean.keys())))\n",
    "\n",
    "for im, m in enumerate(r_mean.keys()):\n",
    "    r_plot[0,im] = r_mean[m][0]*r_mean[m][0]\n",
    "    r_plot[1,im] = r_mean[m][1]*r_mean[m][1]\n",
    "    \n",
    "fig = plt.figure(figsize=(10,6))\n",
    "plt.pcolormesh(r_plot, cmap='Reds')\n",
    "plt.clim(0, 0.75)\n",
    "plt.xticks(np.arange(0, len(models_intersect), 1) + 0.5,list(slopes_all.keys()),fontsize=14, rotation='vertical')\n",
    "plt.yticks([0.5,1.5],['March','September'],fontsize=14)\n",
    "plt.title('R$^{2}$: mean Arctic temperature vs. total Arctic sea ice extent', fontsize=18)\n",
    "plt.colorbar(label='R$^{2}$')"
   ]
  },
  {
   "cell_type": "markdown",
   "metadata": {},
   "source": [
    "### Sorting by September slope"
   ]
  },
  {
   "cell_type": "code",
   "execution_count": null,
   "metadata": {},
   "outputs": [],
   "source": [
    "dumb = {}\n",
    "dumb_name = {}\n",
    "for n,name in enumerate(slopes_mean.keys()):\n",
    "    dumb[n] = slopes_mean[name][1]\n",
    "    dumb_name[n] = name"
   ]
  },
  {
   "cell_type": "code",
   "execution_count": null,
   "metadata": {},
   "outputs": [],
   "source": [
    "dumb_sorted = {k: v for k, v in sorted(dumb.items(), key=lambda item: item[1])}\n",
    "slopes_sorted = {}\n",
    "r_sorted = {}\n",
    "\n",
    "for n in dumb_sorted.keys():\n",
    "    slopes_sorted[dumb_name[n]] = slopes_mean[dumb_name[n]]\n",
    "    r_sorted[dumb_name[n]] = r_mean[dumb_name[n]]"
   ]
  },
  {
   "cell_type": "code",
   "execution_count": null,
   "metadata": {},
   "outputs": [],
   "source": [
    "# Plot slopes for all models\n",
    "slopes_splot = np.zeros((2,len(slopes_mean.keys())))\n",
    "\n",
    "for im, m in enumerate(slopes_sorted.keys()):\n",
    "    slopes_splot[0,im] = slopes_sorted[m][0]\n",
    "    slopes_splot[1,im] = slopes_sorted[m][1]\n",
    "    \n",
    "fig = plt.figure(figsize=(10,6))\n",
    "plt.pcolormesh(slopes_splot, cmap='Reds_r')\n",
    "plt.clim(0, -1.2)\n",
    "plt.xticks(np.arange(0, len(models_intersect), 1) + 0.5,list(slopes_all.keys()),fontsize=14, \n",
    "           rotation='vertical')\n",
    "plt.yticks([0.5,1.5],['March','September'],fontsize=14)\n",
    "plt.title('Slope: mean Arctic temperature vs. total Arctic sea ice extent', fontsize=18)\n",
    "plt.colorbar(label='Slope ((10$^{6}$ km$^{2}$)/K)')"
   ]
  },
  {
   "cell_type": "code",
   "execution_count": null,
   "metadata": {},
   "outputs": [],
   "source": [
    "# Plot R squared for all models\n",
    "r_plot = np.zeros((2,len(r_mean.keys())))\n",
    "\n",
    "for im, m in enumerate(r_mean.keys()):\n",
    "    r_splot[0,im] = r_sorted[m][0]*r_mean[m][0]\n",
    "    r_splot[1,im] = r_sorted[m][1]*r_mean[m][1]\n",
    "    \n",
    "fig = plt.figure(figsize=(10,6))\n",
    "plt.pcolormesh(r_splot, cmap='Reds')\n",
    "plt.clim(0, 0.75)\n",
    "plt.xticks(np.arange(0, len(models_intersect), 1) + 0.5,list(slopes_all.keys()),\n",
    "           fontsize=14,rotation='vertical')\n",
    "plt.yticks([0.5,1.5],['March','September'],fontsize=14)\n",
    "plt.title('R$^{2}$: mean Arctic temperature vs. total Arctic sea ice extent', fontsize=18)\n",
    "plt.colorbar(label='R$^{2}$')"
   ]
  },
  {
   "cell_type": "code",
   "execution_count": null,
   "metadata": {},
   "outputs": [],
   "source": [
    "TAS_ARCTIC_IN = dset_dict['tas']['CESM2']['tas_arc_mean'].sel(member_id='r1i1p1f1')\n",
    "SIE_ARCTIC_IN = dset_dict['siconc']['CESM2']['sie_tot_arc'].sel(member_id='r1i1p1f1')\n",
    "MONTHS_IN = [0,1,2]\n",
    "PLOTFLAG = True\n",
    "MODEL = 'CESM2'\n",
    "import calendar"
   ]
  },
  {
   "cell_type": "code",
   "execution_count": null,
   "metadata": {},
   "outputs": [],
   "source": [
    "sall, rall, intall = au.scatter_linreg(TAS_ARCTIC_IN,SIE_ARCTIC_IN,MONTHS_IN,MODEL,True)"
   ]
  },
  {
   "cell_type": "code",
   "execution_count": null,
   "metadata": {},
   "outputs": [],
   "source": []
  },
  {
   "cell_type": "code",
   "execution_count": null,
   "metadata": {},
   "outputs": [],
   "source": []
  },
  {
   "cell_type": "code",
   "execution_count": null,
   "metadata": {},
   "outputs": [],
   "source": []
  }
 ],
 "metadata": {
  "kernelspec": {
   "display_name": "Python 3",
   "language": "python",
   "name": "python3"
  },
  "language_info": {
   "codemirror_mode": {
    "name": "ipython",
    "version": 3
   },
   "file_extension": ".py",
   "mimetype": "text/x-python",
   "name": "python",
   "nbconvert_exporter": "python",
   "pygments_lexer": "ipython3",
   "version": "3.7.3"
  }
 },
 "nbformat": 4,
 "nbformat_minor": 4
}
