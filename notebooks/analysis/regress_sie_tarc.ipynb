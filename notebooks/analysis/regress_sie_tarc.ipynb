{
 "cells": [
  {
   "cell_type": "code",
   "execution_count": 1,
   "metadata": {},
   "outputs": [
    {
     "name": "stderr",
     "output_type": "stream",
     "text": [
      "/ncar/usr/jupyterhub/envs/cmip6-201910a/lib/python3.7/site-packages/intake/source/discovery.py:136: FutureWarning: The drivers ['stac-catalog', 'stac-collection', 'stac-item'] do not specify entry_points and were only discovered via a package scan. This may break in a future release of intake. The packages should be updated.\n",
      "  FutureWarning)\n"
     ]
    }
   ],
   "source": [
    "%matplotlib inline\n",
    "\n",
    "import intake\n",
    "import matplotlib.pyplot as plt\n",
    "import numpy as np\n",
    "import xarray as xr\n",
    "from scipy import stats\n",
    "import re\n",
    "import warnings\n",
    "\n",
    "import analysis_utils as au"
   ]
  },
  {
   "cell_type": "code",
   "execution_count": 2,
   "metadata": {},
   "outputs": [
    {
     "data": {
      "text/plain": [
       "<module 'analysis_utils' from '/glade/work/mkbren/cmip6_sic/cmip6-seaice-temp-sensitivity/notebooks/analysis/analysis_utils.py'>"
      ]
     },
     "execution_count": 2,
     "metadata": {},
     "output_type": "execute_result"
    }
   ],
   "source": [
    "import importlib\n",
    "importlib.reload(au)"
   ]
  },
  {
   "cell_type": "markdown",
   "metadata": {},
   "source": [
    "#### Load dataset"
   ]
  },
  {
   "cell_type": "code",
   "execution_count": 3,
   "metadata": {},
   "outputs": [],
   "source": [
    "# Load dataset\n",
    "collection_fname = 'dset_dict_historical_siconc_tas_preprocessed.npy'\n",
    "#collection_fname = 'dset_dict_piControl_siconc_tas_preprocessed.npy'\n",
    "\n",
    "dset_dict = np.load(collection_fname, allow_pickle='TRUE').item()\n",
    "first_dset = list(dset_dict.keys())[0]\n",
    "models_intersect = list(dset_dict[first_dset].keys())"
   ]
  },
  {
   "cell_type": "code",
   "execution_count": 4,
   "metadata": {},
   "outputs": [],
   "source": [
    "# Check for member_ids ending in 'i1p1f1' and removes others\n",
    "for m in models_intersect:\n",
    "    ems_str=[]\n",
    "    ems = list(dset_dict['siconc'][m]['member_id'].values)\n",
    "    ems_new = []\n",
    "    for memid in ems: \n",
    "        if memid.endswith('i1p1f1'):\n",
    "            ems_new.append(memid)\n",
    "    if len(ems_new) == 0: \n",
    "        models_intersect.remove(m)\n",
    "    dset_dict['siconc'][m] = dset_dict['siconc'][m].sel(member_id=ems_new)"
   ]
  },
  {
   "cell_type": "markdown",
   "metadata": {},
   "source": [
    "#### Regression of sea ice extent on arctic temperature for each model for multiple ensemble members"
   ]
  },
  {
   "cell_type": "code",
   "execution_count": 5,
   "metadata": {},
   "outputs": [
    {
     "name": "stdout",
     "output_type": "stream",
     "text": [
      "Working on...\n",
      "CanESM5\n",
      "r1i1p1f1\n",
      "month 2\n"
     ]
    },
    {
     "ename": "ValueError",
     "evalue": "all the input array dimensions for the concatenation axis must match exactly, but along dimension 1, the array at index 0 has size 128 and the array at index 1 has size 165",
     "output_type": "error",
     "traceback": [
      "\u001b[0;31m---------------------------------------------------------------------------\u001b[0m",
      "\u001b[0;31mValueError\u001b[0m                                Traceback (most recent call last)",
      "\u001b[0;32m<ipython-input-5-bf2a9228e96d>\u001b[0m in \u001b[0;36m<module>\u001b[0;34m\u001b[0m\n\u001b[1;32m     26\u001b[0m             \u001b[0mintercept_all\u001b[0m\u001b[0;34m[\u001b[0m\u001b[0mm\u001b[0m\u001b[0;34m]\u001b[0m\u001b[0;34m[\u001b[0m\u001b[0mi\u001b[0m\u001b[0;34m]\u001b[0m\u001b[0;34m]\u001b[0m \u001b[0;34m=\u001b[0m \u001b[0mau\u001b[0m\u001b[0;34m.\u001b[0m\u001b[0mscatter_linreg\u001b[0m\u001b[0;34m(\u001b[0m\u001b[0mdset_dict\u001b[0m\u001b[0;34m[\u001b[0m\u001b[0;34m'tas'\u001b[0m\u001b[0;34m]\u001b[0m\u001b[0;34m[\u001b[0m\u001b[0mm\u001b[0m\u001b[0;34m]\u001b[0m\u001b[0;34m[\u001b[0m\u001b[0;34m'tas_arc_mean'\u001b[0m\u001b[0;34m]\u001b[0m\u001b[0;34m.\u001b[0m\u001b[0msel\u001b[0m\u001b[0;34m(\u001b[0m\u001b[0mmember_id\u001b[0m\u001b[0;34m=\u001b[0m\u001b[0mem\u001b[0m\u001b[0;34m)\u001b[0m\u001b[0;34m,\u001b[0m\u001b[0;34m\u001b[0m\u001b[0;34m\u001b[0m\u001b[0m\n\u001b[1;32m     27\u001b[0m                                                      \u001b[0mdset_dict\u001b[0m\u001b[0;34m[\u001b[0m\u001b[0;34m'siconc'\u001b[0m\u001b[0;34m]\u001b[0m\u001b[0;34m[\u001b[0m\u001b[0mm\u001b[0m\u001b[0;34m]\u001b[0m\u001b[0;34m[\u001b[0m\u001b[0;34m'sie_tot_arc'\u001b[0m\u001b[0;34m]\u001b[0m\u001b[0;34m.\u001b[0m\u001b[0msel\u001b[0m\u001b[0;34m(\u001b[0m\u001b[0mmember_id\u001b[0m\u001b[0;34m=\u001b[0m\u001b[0mem\u001b[0m\u001b[0;34m)\u001b[0m\u001b[0;34m,\u001b[0m\u001b[0;34m\u001b[0m\u001b[0;34m\u001b[0m\u001b[0m\n\u001b[0;32m---> 28\u001b[0;31m                                                      [2,8], m, False)\n\u001b[0m\u001b[1;32m     29\u001b[0m     \u001b[0;32melse\u001b[0m\u001b[0;34m:\u001b[0m\u001b[0;34m\u001b[0m\u001b[0;34m\u001b[0m\u001b[0m\n\u001b[1;32m     30\u001b[0m         \u001b[0;32mcontinue\u001b[0m\u001b[0;34m\u001b[0m\u001b[0;34m\u001b[0m\u001b[0m\n",
      "\u001b[0;32m/glade/work/mkbren/cmip6_sic/cmip6-seaice-temp-sensitivity/notebooks/analysis/analysis_utils.py\u001b[0m in \u001b[0;36mscatter_linreg\u001b[0;34m(varx, vary, months_in, model, plotflag)\u001b[0m\n\u001b[1;32m    182\u001b[0m         \u001b[0mmonthname\u001b[0m \u001b[0;34m=\u001b[0m \u001b[0mcalendar\u001b[0m\u001b[0;34m.\u001b[0m\u001b[0mmonth_name\u001b[0m\u001b[0;34m[\u001b[0m\u001b[0mmi\u001b[0m\u001b[0;34m+\u001b[0m\u001b[0;36m1\u001b[0m\u001b[0;34m]\u001b[0m\u001b[0;34m\u001b[0m\u001b[0;34m\u001b[0m\u001b[0m\n\u001b[1;32m    183\u001b[0m \u001b[0;34m\u001b[0m\u001b[0m\n\u001b[0;32m--> 184\u001b[0;31m         \u001b[0mslope\u001b[0m\u001b[0;34m,\u001b[0m\u001b[0mintercept\u001b[0m\u001b[0;34m,\u001b[0m\u001b[0mr_value\u001b[0m\u001b[0;34m,\u001b[0m\u001b[0m_\u001b[0m\u001b[0;34m,\u001b[0m\u001b[0m_\u001b[0m \u001b[0;34m=\u001b[0m \u001b[0mstats\u001b[0m\u001b[0;34m.\u001b[0m\u001b[0mlinregress\u001b[0m\u001b[0;34m(\u001b[0m\u001b[0mairtemp_mi\u001b[0m\u001b[0;34m,\u001b[0m\u001b[0mextent_mi\u001b[0m\u001b[0;34m/\u001b[0m\u001b[0;36m1e12\u001b[0m\u001b[0;34m)\u001b[0m\u001b[0;34m\u001b[0m\u001b[0;34m\u001b[0m\u001b[0m\n\u001b[0m\u001b[1;32m    185\u001b[0m         \u001b[0mslopes_all\u001b[0m\u001b[0;34m.\u001b[0m\u001b[0mappend\u001b[0m\u001b[0;34m(\u001b[0m\u001b[0mslope\u001b[0m\u001b[0;34m)\u001b[0m\u001b[0;34m\u001b[0m\u001b[0;34m\u001b[0m\u001b[0m\n\u001b[1;32m    186\u001b[0m         \u001b[0mr_all\u001b[0m\u001b[0;34m.\u001b[0m\u001b[0mappend\u001b[0m\u001b[0;34m(\u001b[0m\u001b[0mr_value\u001b[0m\u001b[0;34m)\u001b[0m\u001b[0;34m\u001b[0m\u001b[0;34m\u001b[0m\u001b[0m\n",
      "\u001b[0;32m/ncar/usr/jupyterhub/envs/cmip6-201910a/lib/python3.7/site-packages/scipy/stats/_stats_mstats_common.py\u001b[0m in \u001b[0;36mlinregress\u001b[0;34m(x, y)\u001b[0m\n\u001b[1;32m    114\u001b[0m \u001b[0;34m\u001b[0m\u001b[0m\n\u001b[1;32m    115\u001b[0m     \u001b[0;31m# average sum of squares:\u001b[0m\u001b[0;34m\u001b[0m\u001b[0;34m\u001b[0m\u001b[0;34m\u001b[0m\u001b[0m\n\u001b[0;32m--> 116\u001b[0;31m     \u001b[0mssxm\u001b[0m\u001b[0;34m,\u001b[0m \u001b[0mssxym\u001b[0m\u001b[0;34m,\u001b[0m \u001b[0mssyxm\u001b[0m\u001b[0;34m,\u001b[0m \u001b[0mssym\u001b[0m \u001b[0;34m=\u001b[0m \u001b[0mnp\u001b[0m\u001b[0;34m.\u001b[0m\u001b[0mcov\u001b[0m\u001b[0;34m(\u001b[0m\u001b[0mx\u001b[0m\u001b[0;34m,\u001b[0m \u001b[0my\u001b[0m\u001b[0;34m,\u001b[0m \u001b[0mbias\u001b[0m\u001b[0;34m=\u001b[0m\u001b[0;36m1\u001b[0m\u001b[0;34m)\u001b[0m\u001b[0;34m.\u001b[0m\u001b[0mflat\u001b[0m\u001b[0;34m\u001b[0m\u001b[0;34m\u001b[0m\u001b[0m\n\u001b[0m\u001b[1;32m    117\u001b[0m     \u001b[0mr_num\u001b[0m \u001b[0;34m=\u001b[0m \u001b[0mssxym\u001b[0m\u001b[0;34m\u001b[0m\u001b[0;34m\u001b[0m\u001b[0m\n\u001b[1;32m    118\u001b[0m     \u001b[0mr_den\u001b[0m \u001b[0;34m=\u001b[0m \u001b[0mnp\u001b[0m\u001b[0;34m.\u001b[0m\u001b[0msqrt\u001b[0m\u001b[0;34m(\u001b[0m\u001b[0mssxm\u001b[0m \u001b[0;34m*\u001b[0m \u001b[0mssym\u001b[0m\u001b[0;34m)\u001b[0m\u001b[0;34m\u001b[0m\u001b[0;34m\u001b[0m\u001b[0m\n",
      "\u001b[0;32m<__array_function__ internals>\u001b[0m in \u001b[0;36mcov\u001b[0;34m(*args, **kwargs)\u001b[0m\n",
      "\u001b[0;32m/ncar/usr/jupyterhub/envs/cmip6-201910a/lib/python3.7/site-packages/numpy/lib/function_base.py\u001b[0m in \u001b[0;36mcov\u001b[0;34m(m, y, rowvar, bias, ddof, fweights, aweights)\u001b[0m\n\u001b[1;32m   2388\u001b[0m         \u001b[0;32mif\u001b[0m \u001b[0;32mnot\u001b[0m \u001b[0mrowvar\u001b[0m \u001b[0;32mand\u001b[0m \u001b[0my\u001b[0m\u001b[0;34m.\u001b[0m\u001b[0mshape\u001b[0m\u001b[0;34m[\u001b[0m\u001b[0;36m0\u001b[0m\u001b[0;34m]\u001b[0m \u001b[0;34m!=\u001b[0m \u001b[0;36m1\u001b[0m\u001b[0;34m:\u001b[0m\u001b[0;34m\u001b[0m\u001b[0;34m\u001b[0m\u001b[0m\n\u001b[1;32m   2389\u001b[0m             \u001b[0my\u001b[0m \u001b[0;34m=\u001b[0m \u001b[0my\u001b[0m\u001b[0;34m.\u001b[0m\u001b[0mT\u001b[0m\u001b[0;34m\u001b[0m\u001b[0;34m\u001b[0m\u001b[0m\n\u001b[0;32m-> 2390\u001b[0;31m         \u001b[0mX\u001b[0m \u001b[0;34m=\u001b[0m \u001b[0mnp\u001b[0m\u001b[0;34m.\u001b[0m\u001b[0mconcatenate\u001b[0m\u001b[0;34m(\u001b[0m\u001b[0;34m(\u001b[0m\u001b[0mX\u001b[0m\u001b[0;34m,\u001b[0m \u001b[0my\u001b[0m\u001b[0;34m)\u001b[0m\u001b[0;34m,\u001b[0m \u001b[0maxis\u001b[0m\u001b[0;34m=\u001b[0m\u001b[0;36m0\u001b[0m\u001b[0;34m)\u001b[0m\u001b[0;34m\u001b[0m\u001b[0;34m\u001b[0m\u001b[0m\n\u001b[0m\u001b[1;32m   2391\u001b[0m \u001b[0;34m\u001b[0m\u001b[0m\n\u001b[1;32m   2392\u001b[0m     \u001b[0;32mif\u001b[0m \u001b[0mddof\u001b[0m \u001b[0;32mis\u001b[0m \u001b[0;32mNone\u001b[0m\u001b[0;34m:\u001b[0m\u001b[0;34m\u001b[0m\u001b[0;34m\u001b[0m\u001b[0m\n",
      "\u001b[0;32m<__array_function__ internals>\u001b[0m in \u001b[0;36mconcatenate\u001b[0;34m(*args, **kwargs)\u001b[0m\n",
      "\u001b[0;31mValueError\u001b[0m: all the input array dimensions for the concatenation axis must match exactly, but along dimension 1, the array at index 0 has size 128 and the array at index 1 has size 165"
     ]
    }
   ],
   "source": [
    "# Set maximum number of ensemble members to look at for each model\n",
    "#N.B. doing this for anomalies give you the same answer as not anomalies. \n",
    "#Which makes sense when you think about it.\n",
    "max_ems = 1\n",
    "\n",
    "warnings.filterwarnings('ignore')\n",
    "\n",
    "slopes_all, r_all, intercept_all= {}, {}, {}\n",
    "for m in models_intersect:\n",
    "    if 'tas_arc_mean' in dset_dict['tas'][m].data_vars:\n",
    "        if max_ems ==1:\n",
    "            ems = ['r1i1p1f1']\n",
    "        else:\n",
    "            ems = np.sort(dset_dict['siconc'][m]['member_id'].values)\n",
    "        if len(ems)>max_ems:\n",
    "            ems = ems[0:max_ems]\n",
    "        print('Working on...')\n",
    "        print(m)\n",
    "\n",
    "        # Perform regression\n",
    "        slopes_all[m], r_all[m],intercept_all[m] = {}, {}, {}\n",
    "        for i, em in enumerate(ems):\n",
    "            print(em)\n",
    "            [slopes_all[m][i], \n",
    "            r_all[m][i],\n",
    "            intercept_all[m][i]] = au.scatter_linreg(dset_dict['tas'][m]['tas_arc_mean'].sel(member_id=em),\n",
    "                                                     dset_dict['siconc'][m]['sie_tot_arc'].sel(member_id=em),\n",
    "                                                     [2,8], m, False)\n",
    "    else: \n",
    "        continue\n",
    "        \n",
    "warnings.filterwarnings('default')"
   ]
  },
  {
   "cell_type": "code",
   "execution_count": null,
   "metadata": {},
   "outputs": [],
   "source": [
    "# Calculate ensemble mean and r values for each model\n",
    "slopes_mean, r_mean = {}, {}\n",
    "\n",
    "print('Model, slopes (mar, sept), r (mar, sept)')\n",
    "print()\n",
    "for m in models_intersect:\n",
    "    slopes_mean_temp, r_mean_temp = [], []\n",
    "    for em in slopes_all[m].keys():\n",
    "        slopes_mean_temp.append(slopes_all[m][em])\n",
    "        r_mean_temp.append(r_all[m][em])                \n",
    "    slopes_mean[m] = np.mean(slopes_mean_temp,0)\n",
    "    r_mean[m] = np.mean(r_mean_temp,0)\n",
    "    \n",
    "#    print(m, slopes_mean[m], r_mean[m])"
   ]
  },
  {
   "cell_type": "markdown",
   "metadata": {},
   "source": [
    "#### Save"
   ]
  },
  {
   "cell_type": "code",
   "execution_count": null,
   "metadata": {},
   "outputs": [],
   "source": [
    "# Save dictionaries for future use\n",
    "results_fname = 'regression_results_' + collection_fname[10:-4]\n",
    "save_flag = True\n",
    "if save_flag:\n",
    "    if dset_dict:\n",
    "        np.savez(results_fname, slopes_mean = slopes_mean, r_mean = r_mean)"
   ]
  },
  {
   "cell_type": "markdown",
   "metadata": {},
   "source": [
    "#### Load Regression data: "
   ]
  },
  {
   "cell_type": "code",
   "execution_count": null,
   "metadata": {},
   "outputs": [],
   "source": [
    "# Load dataset\n",
    "output_fname = 'regression_results_historical.npz'\n",
    "\n",
    "results_dict= np.load(output_fname, allow_pickle='TRUE')\n",
    "slopes_mean = results_dict['slopes_mean'].item()\n",
    "r_mean = results_dict['r_mean'].item()"
   ]
  },
  {
   "cell_type": "code",
   "execution_count": null,
   "metadata": {},
   "outputs": [],
   "source": [
    "slopes_plot.shape"
   ]
  },
  {
   "cell_type": "markdown",
   "metadata": {},
   "source": [
    "#### Plots"
   ]
  },
  {
   "cell_type": "code",
   "execution_count": null,
   "metadata": {},
   "outputs": [],
   "source": [
    "# Plot slopes for all models\n",
    "slopes_plot = np.zeros((2,len(slopes_mean.keys())))\n",
    "\n",
    "for im, m in enumerate(slopes_mean.keys()):\n",
    "    slopes_plot[0,im] = slopes_mean[m][0]\n",
    "    slopes_plot[1,im] = slopes_mean[m][1]\n",
    "    \n",
    "fig = plt.figure(figsize=(10,6))\n",
    "plt.pcolormesh(slopes_plot, cmap='Reds_r')\n",
    "\n",
    "au.add_text_plt(slopes_plot,'k',16)\n",
    "        \n",
    "plt.clim(0, -1.2)\n",
    "plt.xticks(np.arange(0, len(models_intersect), 1) + 0.5,list(slopes_all.keys()),fontsize=14, rotation='vertical')\n",
    "plt.yticks([0.5,1.5],['March','September'],fontsize=14)\n",
    "plt.title('Slope: mean Arctic temperature vs. total Arctic sea ice extent', fontsize=18)\n",
    "plt.colorbar(label='Slope ((10$^{6}$ km$^{2}$)/K)')"
   ]
  },
  {
   "cell_type": "code",
   "execution_count": null,
   "metadata": {},
   "outputs": [],
   "source": [
    "# Plot R squared for all models\n",
    "r_plot = np.zeros((2,len(r_mean.keys())))\n",
    "\n",
    "for im, m in enumerate(r_mean.keys()):\n",
    "    r_plot[0,im] = r_mean[m][0]*r_mean[m][0]\n",
    "    r_plot[1,im] = r_mean[m][1]*r_mean[m][1]\n",
    "    \n",
    "fig = plt.figure(figsize=(10,6))\n",
    "plt.pcolormesh(r_plot, cmap='Reds')\n",
    "\n",
    "au.add_text_plt(r_plot,'k',16)\n",
    "\n",
    "plt.clim(0, 0.75)\n",
    "plt.xticks(np.arange(0, len(models_intersect), 1) + 0.5,list(slopes_all.keys()),fontsize=14, rotation='vertical')\n",
    "plt.yticks([0.5,1.5],['March','September'],fontsize=14)\n",
    "plt.title('R$^{2}$: mean Arctic temperature vs. total Arctic sea ice extent', fontsize=18)\n",
    "plt.colorbar(label='R$^{2}$')"
   ]
  },
  {
   "cell_type": "markdown",
   "metadata": {},
   "source": [
    "### Sorting by September slope"
   ]
  },
  {
   "cell_type": "code",
   "execution_count": null,
   "metadata": {},
   "outputs": [],
   "source": [
    "dumb = {}\n",
    "dumb_name = {}\n",
    "for n,name in enumerate(slopes_mean.keys()):\n",
    "    dumb[n] = slopes_mean[name][1]\n",
    "    dumb_name[n] = name"
   ]
  },
  {
   "cell_type": "code",
   "execution_count": null,
   "metadata": {},
   "outputs": [],
   "source": [
    "dumb_sorted = {k: v for k, v in sorted(dumb.items(), key=lambda item: item[1])}\n",
    "slopes_sorted = {}\n",
    "r_sorted = {}\n",
    "\n",
    "for n in dumb_sorted.keys():\n",
    "    slopes_sorted[dumb_name[n]] = slopes_mean[dumb_name[n]]\n",
    "    r_sorted[dumb_name[n]] = r_mean[dumb_name[n]]"
   ]
  },
  {
   "cell_type": "code",
   "execution_count": null,
   "metadata": {},
   "outputs": [],
   "source": [
    "# Plot slopes for all models\n",
    "slopes_splot = np.zeros((2,len(slopes_mean.keys())))\n",
    "\n",
    "for im, m in enumerate(slopes_sorted.keys()):\n",
    "    slopes_splot[0,im] = slopes_sorted[m][0]\n",
    "    slopes_splot[1,im] = slopes_sorted[m][1]\n",
    "    \n",
    "fig = plt.figure(figsize=(10,6))\n",
    "plt.pcolormesh(slopes_splot, cmap='Reds_r')\n",
    "\n",
    "au.add_text_plt(slopes_splot,'k',16)\n",
    "\n",
    "plt.clim(0, -1.2)\n",
    "plt.xticks(np.arange(0, len(models_intersect), 1) + 0.5,list(slopes_all.keys()),fontsize=14, \n",
    "           rotation='vertical')\n",
    "plt.yticks([0.5,1.5],['March','September'],fontsize=14)\n",
    "plt.title('Slope: mean Arctic temperature vs. total Arctic sea ice extent', fontsize=18)\n",
    "plt.colorbar(label='Slope ((10$^{6}$ km$^{2}$)/K)')"
   ]
  },
  {
   "cell_type": "code",
   "execution_count": null,
   "metadata": {},
   "outputs": [],
   "source": [
    "# Plot R squared for all models\n",
    "r_splot = np.zeros((2,len(r_mean.keys())))\n",
    "\n",
    "for im, m in enumerate(r_mean.keys()):\n",
    "    r_splot[0,im] = r_sorted[m][0]*r_mean[m][0]\n",
    "    r_splot[1,im] = r_sorted[m][1]*r_mean[m][1]\n",
    "    \n",
    "fig = plt.figure(figsize=(10,6))\n",
    "plt.pcolormesh(r_splot, cmap='Reds')\n",
    "\n",
    "au.add_text_plt(r_splot,'k',16)\n",
    "\n",
    "plt.clim(0, 0.75)\n",
    "plt.xticks(np.arange(0, len(models_intersect), 1) + 0.5,list(slopes_all.keys()),\n",
    "           fontsize=14,rotation='vertical')\n",
    "plt.yticks([0.5,1.5],['March','September'],fontsize=14)\n",
    "plt.title('R$^{2}$: mean Arctic temperature vs. total Arctic sea ice extent', fontsize=18)\n",
    "plt.colorbar(label='R$^{2}$')"
   ]
  },
  {
   "cell_type": "code",
   "execution_count": null,
   "metadata": {},
   "outputs": [],
   "source": []
  },
  {
   "cell_type": "code",
   "execution_count": null,
   "metadata": {},
   "outputs": [],
   "source": []
  },
  {
   "cell_type": "code",
   "execution_count": null,
   "metadata": {},
   "outputs": [],
   "source": []
  }
 ],
 "metadata": {
  "kernelspec": {
   "display_name": "CMIP6 2019.10a",
   "language": "python",
   "name": "cmip6-201910a"
  },
  "language_info": {
   "codemirror_mode": {
    "name": "ipython",
    "version": 3
   },
   "file_extension": ".py",
   "mimetype": "text/x-python",
   "name": "python",
   "nbconvert_exporter": "python",
   "pygments_lexer": "ipython3",
   "version": "3.7.3"
  }
 },
 "nbformat": 4,
 "nbformat_minor": 4
}
