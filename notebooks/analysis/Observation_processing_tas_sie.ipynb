{
 "cells": [
  {
   "cell_type": "markdown",
   "metadata": {},
   "source": [
    "# Satellite Data Processing \n",
    "  \n",
    "Katie Brennan  \n",
    "April 2, 2021  \n",
    "  \n",
    "This notebook calculates the monthly and annual slopes and R$^2$ values between temperature and sea ice extent observations. Temperature data is taken from ERA5 and total Arctic sea ice extent is calculated from two versions of satellite data: NASA Team and Bootstrap. Arctic mean temperature north of 60 and global mean temperatures are both considered. "
   ]
  },
  {
   "cell_type": "code",
   "execution_count": null,
   "metadata": {},
   "outputs": [],
   "source": [
    "import xarray as xr\n",
    "import scipy.stats as stats \n",
    "import matplotlib.pyplot as plt\n",
    "import os\n",
    "import numpy as np\n",
    "\n",
    "from importlib import reload "
   ]
  },
  {
   "cell_type": "code",
   "execution_count": null,
   "metadata": {},
   "outputs": [],
   "source": [
    "import sys \n",
    "sys.path.append(\"../local_analysis/\")\n",
    "\n",
    "import preprocess_utils as pputils\n",
    "import analysis_utils as autils "
   ]
  },
  {
   "cell_type": "code",
   "execution_count": null,
   "metadata": {},
   "outputs": [],
   "source": [
    "all_months = [1,2,3,4,5,6,7,8,9,10,11,12]\n",
    "month_names = ['Jan','Feb','Mar','Apr','May','June','July','Aug','Sept','Oct','Nov','Dec','Annual']"
   ]
  },
  {
   "cell_type": "markdown",
   "metadata": {},
   "source": [
    "### Load ERA5 temperature data: "
   ]
  },
  {
   "cell_type": "code",
   "execution_count": null,
   "metadata": {},
   "outputs": [],
   "source": [
    "obs_dir = '/glade/work/mkbren/cmip6-data/cmip6-preprocessed/observations/'\n",
    "obs_name = 'tas_ERA5_pan_Arctic.nc'\n",
    "\n",
    "era_data = xr.load_dataset(os.path.join(obs_dir,obs_name))"
   ]
  },
  {
   "cell_type": "markdown",
   "metadata": {},
   "source": [
    "### Load sea ice satellite data: "
   ]
  },
  {
   "cell_type": "code",
   "execution_count": null,
   "metadata": {},
   "outputs": [],
   "source": [
    "# # SIA all three products: \n",
    "# sia_path = '/glade/work/lettier/archived_data/202003_data_paper_antarctic_sia_cmip6/processed_OBS_sia_1979-2018.nc'\n",
    "\n",
    "# #SIC NASA Team and Bootstrap monthly concentration fields here: \n",
    "# path_sat_sic = '/glade/work/lettier/CDR/mon/seaice_conc_monthly_nh_1979-2018.nc'\n",
    "\n",
    "#SIA and SIE for NASA Team and Bootstrap, Arctic and Antarctic here: \n",
    "path_sat_nt_bt = '/glade/work/lettier/CDR/mon/processed/sia_cdr_monthly_processed_nhsh_1979-2018.nc'\n",
    "\n",
    "sat_nt_bt = xr.open_dataset(path_sat_nt_bt)\n",
    "\n",
    "sat_nt_bt.sie_nh_bt[np.where(sat_nt_bt.sie_nh_bt<0.2e7)] = np.nan\n",
    "\n",
    "sat_nt_bt['sie_nh_bt_anom'] = sat_nt_bt.sie_nh_bt.groupby('time.month') - sat_nt_bt.sie_nh_bt.groupby('time.month').mean()\n",
    "sat_nt_bt['sie_nh_nt_anom'] = sat_nt_bt.sie_nh_nt.groupby('time.month') - sat_nt_bt.sie_nh_nt.groupby('time.month').mean()"
   ]
  },
  {
   "cell_type": "markdown",
   "metadata": {},
   "source": [
    "#### Select years that overlap with Historical simulations (1979-2014): "
   ]
  },
  {
   "cell_type": "code",
   "execution_count": null,
   "metadata": {},
   "outputs": [],
   "source": [
    "sat_nt_bt_79_14 = sat_nt_bt.sel(time=slice('1979-01-01','2014-12-01'))\n",
    "sat_nt_bt_79_14"
   ]
  },
  {
   "cell_type": "markdown",
   "metadata": {},
   "source": [
    "### Slopes relative to Arctic mean temperature (60N): "
   ]
  },
  {
   "cell_type": "code",
   "execution_count": null,
   "metadata": {},
   "outputs": [],
   "source": [
    "era_data_79_14 = era_data.sel(time=slice('1979-01-01','2014-12-01'))\n",
    "\n",
    "[slopes_obs_nt_am_79_14, \n",
    "r_obs_nt_am_79_14,\n",
    "intercept_obs_nt_am_79_14] = autils.scatter_linreg(era_data_79_14['t2m_arc_mean_anom60'],sat_nt_bt.sie_nh_nt_anom*1e-6,\n",
    "                                                 era_data_79_14,all_months,'obs',plotflag=False)\n",
    "\n",
    "[slopes_obs_bt_am_79_14, \n",
    "r_obs_bt_am_79_14,\n",
    "intercept_obs_bt_am_79_14] = autils.scatter_linreg(era_data_79_14['t2m_arc_mean_anom60'],sat_nt_bt.sie_nh_bt_anom*1e-6,\n",
    "                                                 era_data_79_14,all_months,'obs',plotflag=False)"
   ]
  },
  {
   "cell_type": "code",
   "execution_count": null,
   "metadata": {},
   "outputs": [],
   "source": [
    "plt.plot(month_names[:-1],slopes_obs_bt_am_79_14, label='bootstrap')\n",
    "plt.plot(month_names[:-1],slopes_obs_nt_am_79_14, label='NASA team')\n",
    "plt.legend()\n",
    "plt.title('Arctic mean tas (60N) vs Total SIE')"
   ]
  },
  {
   "cell_type": "code",
   "execution_count": null,
   "metadata": {},
   "outputs": [],
   "source": [
    "plt.plot(month_names[:-1],np.power(r_obs_bt_am_79_14,2), label='bootstrap')\n",
    "plt.plot(month_names[:-1],np.power(r_obs_nt_am_79_14,2), label='NASA team')\n",
    "plt.legend()\n",
    "plt.title('Arctic mean tas (60N) vs Total SIE')"
   ]
  },
  {
   "cell_type": "markdown",
   "metadata": {},
   "source": [
    "### Slopes relative to global mean temperature: "
   ]
  },
  {
   "cell_type": "code",
   "execution_count": null,
   "metadata": {},
   "outputs": [],
   "source": [
    "era_data_79_14 = era_data.sel(time=slice('1979-01-01','2014-12-01'))\n",
    "\n",
    "[slopes_obs_nt_gm_79_14, \n",
    "r_obs_nt_gm_79_14,\n",
    "intercept_obs_nt_gm_79_14] = autils.scatter_linreg(era_data_79_14['t2m_gm_anom'],sat_nt_bt_79_14.sie_nh_nt_anom*1e-6,\n",
    "                                                 era_data_79_14,all_months,'obs',plotflag=False)\n",
    "\n",
    "[slopes_obs_bt_gm_79_14, \n",
    "r_obs_bt_gm_79_14,\n",
    "intercept_obs_bt_gm_79_14] = autils.scatter_linreg(era_data_79_14['t2m_gm_anom'],sat_nt_bt_79_14.sie_nh_bt_anom*1e-6,\n",
    "                                                 era_data_79_14,all_months,'obs',plotflag=False)"
   ]
  },
  {
   "cell_type": "code",
   "execution_count": null,
   "metadata": {},
   "outputs": [],
   "source": [
    "plt.plot(month_names[:-1],slopes_obs_bt_gm_79_14, label='bootstrap')\n",
    "plt.plot(month_names[:-1],slopes_obs_nt_gm_79_14, label='NASA team')\n",
    "plt.legend()\n",
    "plt.title('GMT vs Total SIE')"
   ]
  },
  {
   "cell_type": "code",
   "execution_count": null,
   "metadata": {},
   "outputs": [],
   "source": [
    "plt.plot(month_names[:-1],np.power(r_obs_bt_gm_79_14,2), label='bootstrap')\n",
    "plt.plot(month_names[:-1],np.power(r_obs_nt_gm_79_14,2), label='NASA team')\n",
    "plt.legend()\n",
    "plt.title('GMT vs Total SIE')"
   ]
  },
  {
   "cell_type": "markdown",
   "metadata": {},
   "source": [
    "### Annual slopes: "
   ]
  },
  {
   "cell_type": "code",
   "execution_count": null,
   "metadata": {},
   "outputs": [],
   "source": [
    "slopes_obs_bt_gm_79_14_annual,_,r_obs_bt_gm_79_14_annual,_,_ = stats.linregress(era_data_79_14['t2m_gm_annual_anom'][:-1],\n",
    "                                                                                 sat_nt_bt.sie_nh_bt_anom.groupby('time.year').mean()*1e-6)\n",
    "\n",
    "slopes_obs_nt_gm_79_14_annual,_,r_obs_nt_gm_79_14_annual,_,_ = stats.linregress(era_data_79_14['t2m_gm_annual_anom'][:-1],\n",
    "                                                                                 sat_nt_bt.sie_nh_nt_anom.groupby('time.year').mean()*1e-6)\n",
    "\n",
    "slopes_obs_bt_am_79_14_annual,_,r_obs_bt_gm_79_14_annual,_,_ = stats.linregress(era_data_79_14['t2m_arc_mean_annual_anom60'][:-1],\n",
    "                                                                                 sat_nt_bt.sie_nh_bt_anom.groupby('time.year').mean()*1e-6)\n",
    "\n",
    "slopes_obs_nt_am_79_14_annual,_,r_obs_nt_gm_79_14_annual,_,_ = stats.linregress(era_data_79_14['t2m_arc_mean_annual_anom60'][:-1],\n",
    "                                                                                 sat_nt_bt.sie_nh_nt_anom.groupby('time.year').mean()*1e-6)\n",
    "\n",
    "slopes_obs_bt_gm_79_14.append(slopes_obs_bt_gm_79_14_annual)\n",
    "slopes_obs_nt_gm_79_14.append(slopes_obs_nt_gm_79_14_annual)\n",
    "slopes_obs_bt_am_79_14.append(slopes_obs_bt_am_79_14_annual)\n",
    "slopes_obs_nt_am_79_14.append(slopes_obs_nt_am_79_14_annual)"
   ]
  }
 ],
 "metadata": {
  "kernelspec": {
   "display_name": "CMIP6 2019.10a",
   "language": "python",
   "name": "cmip6-201910a"
  },
  "language_info": {
   "codemirror_mode": {
    "name": "ipython",
    "version": 3
   },
   "file_extension": ".py",
   "mimetype": "text/x-python",
   "name": "python",
   "nbconvert_exporter": "python",
   "pygments_lexer": "ipython3",
   "version": "3.7.3"
  }
 },
 "nbformat": 4,
 "nbformat_minor": 4
}
