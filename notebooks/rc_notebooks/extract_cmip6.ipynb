{
 "cells": [
  {
   "cell_type": "code",
   "execution_count": null,
   "metadata": {},
   "outputs": [],
   "source": [
    "%matplotlib inline\n",
    "\n",
    "import intake\n",
    "import matplotlib.pyplot as plt\n",
    "import numpy as np\n",
    "import xarray as xr\n",
    "\n",
    "from explore_utils import get_cmip6_catalogue\n",
    "from extract_utils import find_overlap_models, rename_dimensions"
   ]
  },
  {
   "cell_type": "code",
   "execution_count": null,
   "metadata": {},
   "outputs": [],
   "source": [
    "# Select which datasets are required by populating these lists with details\n",
    "dset_name, exp, var, table_id, grid_label = [], [], [], [], []\n",
    "\n",
    "# Select name for this clollection of inputs\n",
    "collection_name = 'historical'\n",
    "#collection_name = 'piControl'\n",
    "\n",
    "# 1. siconc\n",
    "dset_name.append('siconc')\n",
<<<<<<< HEAD
    "exp.append(collection_name)\n",
=======
    "exp.append('historical')\n",
    "var.append('siconc')\n",
    "table_id.append('SImon')\n",
    "grid_label.append('gn')\n",
    "\n",
    "# 2. areacello\n",
    "dset_name.append('areacello')\n",
    "exp.append('historical')\n",
    "var.append('areacello')\n",
    "table_id.append('Ofx')\n",
    "grid_label.append('gn')\n",
    "\n",
    "# 3. tas\n",
    "dset_name.append('tas')\n",
    "exp.append('historical')\n",
    "var.append('tas')\n",
    "table_id.append('Amon')\n",
    "grid_label.append('gn')"
   ]
  },
  {
   "cell_type": "code",
   "execution_count": null,
   "metadata": {},
   "outputs": [],
   "source": [
    "# Select which datasets are required by populating these lists with details\n",
    "dset_name, exp, var, table_id, grid_label = [], [], [], [], []\n",
    "\n",
    "# Select name for this clollection of inputs\n",
    "collection_name = 'piControl'\n",
    "\n",
    "# 1. siconc\n",
    "dset_name.append('siconc')\n",
    "exp.append('piControl')\n",
>>>>>>> master
    "var.append('siconc')\n",
    "table_id.append('SImon')\n",
    "grid_label.append('gn')\n",
    "\n",
    "# 2. areacello\n",
    "dset_name.append('areacello')\n",
    "exp.append(collection_name)\n",
    "var.append('areacello')\n",
    "table_id.append('Ofx')\n",
    "grid_label.append('gn')\n",
    "\n",
    "# 3. tas\n",
    "dset_name.append('tas')\n",
    "exp.append(collection_name)\n",
    "var.append('tas')\n",
    "table_id.append('Amon')\n",
    "grid_label.append('gn')"
   ]
  },
  {
   "cell_type": "code",
   "execution_count": null,
   "metadata": {},
   "outputs": [],
   "source": [
    "# Get full catalogue of CMIP6 data on glade or cloud\n",
    "cmip6_collection = get_cmip6_catalogue()"
   ]
  },
  {
   "cell_type": "code",
   "execution_count": null,
   "metadata": {},
   "outputs": [],
   "source": [
    "# Find where models contain all necessary variables\n",
    "models_intersect = find_overlap_models(dset_name, exp, var, table_id, grid_label, cmip6_collection)\n",
    "print(models_intersect)"
   ]
  },
  {
   "cell_type": "code",
   "execution_count": null,
   "metadata": {},
   "outputs": [],
   "source": [
    "# Get dictionary of file names for speficied data\n",
    "dset_dict = {}\n",
    "for i in range(0, len(dset_name)):\n",
    "    dset_dict[dset_name[i]] = cmip6_collection.search(\n",
    "                                experiment_id=exp[i], table_id=table_id[i], \n",
    "                                variable_id=var[i], grid_label=grid_label[i])"
   ]
  },
  {
   "cell_type": "code",
   "execution_count": null,
   "metadata": {},
   "outputs": [],
<<<<<<< HEAD
=======
   "source": [
    "for d in dset_dict.keys():\n",
    "    print(d)\n",
    "    print(cmip6_collection[d]['source_id'])"
   ]
  },
  {
   "cell_type": "code",
   "execution_count": null,
   "metadata": {},
   "outputs": [],
>>>>>>> master
   "source": [
    "# Loading data\n",
    "for d in dset_dict.keys():\n",
    "    print(d)\n",
    "    dset_dict[d] = dset_dict[d].to_dataset_dict(zarr_kwargs={'consolidated': True, 'decode_times': True}, \n",
    "                                           cdf_kwargs={'chunks': {}, 'decode_times': True})\n",
    "    \n",
    "# Having some problems, times don't want to be decoded for picontrol. Might not be a problem but should investigate.\n"
   ]
  },
  {
   "cell_type": "code",
   "execution_count": null,
   "metadata": {},
   "outputs": [],
   "source": [
    "# Rename dimensions to i,j so they're consistent across variables\n",
    "dset_dict_temp = {}\n",
    "for d in dset_dict.keys():\n",
    "    dset_dict_temp[d] = {}\n",
    "    for m in dset_dict[d].keys():\n",
    "        dset_dict_temp[d][m] = rename_dimensions(dset_dict[d][m], dset_dict_temp)\n",
    "\n",
    "dset_dict = dset_dict_temp"
   ]
  },
  {
   "cell_type": "code",
   "execution_count": null,
   "metadata": {},
   "outputs": [],
   "source": [
    "# Making key of dataset model name\n",
    "dset_dict_temp = {}\n",
    "for d in dset_dict.keys():\n",
    "    dset_dict_temp[d] = {}\n",
    "    for key, item in dset_dict[d].items():\n",
    "        model = item.attrs['source_id']\n",
    "        if model in models_intersect:\n",
    "            dset_dict_temp[d][model] = item\n",
    "\n",
    "dset_dict = dset_dict_temp"
   ]
  },
  {
   "cell_type": "code",
   "execution_count": null,
   "metadata": {},
   "outputs": [],
   "source": [
    "# Adding areacello and/or areacella as a variable in other datasets\n",
    "if 'areacello' in dset_dict.keys():\n",
    "    for d in dset_dict.keys(): # for each variable\n",
    "        for key in dset_dict[d].keys(): # for each model\n",
    "            # if table_id suggests variable is a sea ice or ocean variable, add areacello\n",
    "            if dset_dict[d][key].attrs['table_id'][0] in ['S', 'O']:\n",
    "                dset_dict[d][key]['areacello'] = dset_dict['areacello'][key]['areacello']\n",
    "\n",
    "if 'areacella' in dset_dict.keys():\n",
    "    for d in dset_dict.keys(): # for each variable\n",
    "        for key in dset_dict[d].keys(): # for each model\n",
    "            # if table_id suggests variable is an atmosphere variable, add areacella\n",
    "            if dset_dict[d][key].attrs['table_id'][0] in ['A']:\n",
    "                dset_dict[d][key]['areacella'] = dset_dict['areacella'][key]['areacella']                "
   ]
  },
  {
   "cell_type": "code",
   "execution_count": null,
   "metadata": {},
   "outputs": [],
   "source": [
    "# Ensure only ensemble members that overlap all data sets are included\n",
    "dset_dict_temp = {}\n",
    "\n",
    "for d in dset_dict.keys():\n",
    "    dset_dict_temp[d] = {}\n",
    "    \n",
    "for m in models_intersect:\n",
    "    ems = [0]\n",
    "    for d in dset_dict.keys():\n",
    "        dset_dict_temp[d][m] = {}\n",
    "        if d is not 'areacello':\n",
    "            if ems[0]==0:\n",
    "                ems = dset_dict[d][m]['member_id'].values\n",
    "            else:\n",
    "                ems = list(set(ems) & set(dset_dict[d][m]['member_id'].values))\n",
    "    \n",
    "    for d in dset_dict.keys():                       \n",
    "        dset_dict_temp[d][m] = dset_dict[d][m].sel(member_id=ems)\n",
    "        \n",
    "    print(m, ems)\n",
    "    print()\n",
    "        \n",
    "dset_dict = dset_dict_temp"
   ]
  },
  {
   "cell_type": "code",
   "execution_count": null,
   "metadata": {},
   "outputs": [],
   "source": [
    "# Save dictionaries for future use\n",
    "save_flag = True\n",
    "if save_flag:\n",
    "    if dset_dict:\n",
    "        np.save('dset_dict_temp_' + collection_name + '.npy', dset_dict)"
   ]
  },
  {
   "cell_type": "code",
   "execution_count": null,
   "metadata": {},
   "outputs": [],
   "source": [
    "# Problems\n",
    "#1. Updated pi-control model list. Now intake-cesm not working..."
   ]
  },
  {
   "cell_type": "code",
   "execution_count": null,
   "metadata": {},
   "outputs": [],
   "source": [
    "# To-do\n",
    "#1. add something for selecting specific time interval"
   ]
  },
  {
   "cell_type": "code",
   "execution_count": null,
   "metadata": {},
   "outputs": [],
   "source": []
  }
 ],
 "metadata": {
  "kernelspec": {
   "display_name": "Python 3",
   "language": "python",
   "name": "python3"
  },
  "language_info": {
   "codemirror_mode": {
    "name": "ipython",
    "version": 3
   },
   "file_extension": ".py",
   "mimetype": "text/x-python",
   "name": "python",
   "nbconvert_exporter": "python",
   "pygments_lexer": "ipython3",
   "version": "3.7.3"
  }
 },
 "nbformat": 4,
 "nbformat_minor": 4
}
