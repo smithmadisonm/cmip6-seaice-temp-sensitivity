{
 "cells": [
  {
   "cell_type": "code",
   "execution_count": null,
   "metadata": {},
   "outputs": [],
   "source": [
    "%matplotlib inline\n",
    "\n",
    "import intake\n",
    "import matplotlib.pyplot as plt\n",
    "import numpy as np\n",
    "import xarray as xr\n",
    "from scipy import stats\n",
    "import warnings\n",
    "\n",
    "from preprocess_utils import arctic_mean, Arctic_SIextent"
   ]
  },
  {
   "cell_type": "markdown",
   "metadata": {},
   "source": [
    "#### Load dataset"
   ]
  },
  {
   "cell_type": "code",
   "execution_count": null,
   "metadata": {},
   "outputs": [],
   "source": [
    "# Load dataset\n",
    "collection_fname = 'dset_dict_temp_historical.npy'\n",
    "#collection_fname = 'dset_dict_temp_piControl.npy'\n",
    "\n",
    "dset_dict = np.load(collection_fname, allow_pickle='TRUE').item()\n",
    "first_dset = list(dset_dict.keys())[0]\n",
    "models_intersect = dset_dict[first_dset].keys()\n",
    "\n",
    "# taking the temp out of collection_fname\n",
    "collection_fname = collection_fname[0:10] + collection_fname[15:]"
   ]
  },
  {
   "cell_type": "markdown",
   "metadata": {},
   "source": [
    "#### Calculate bulk totals (Arctic sea ice extent and mean Arctic temperature): "
   ]
  },
  {
   "cell_type": "code",
   "execution_count": null,
   "metadata": {},
   "outputs": [],
   "source": [
    "si_dict = dset_dict['siconc']\n",
    "tas_dict = dset_dict['tas']"
   ]
  },
  {
   "cell_type": "code",
   "execution_count": null,
   "metadata": {},
   "outputs": [],
   "source": [
    "for m in models_intersect:\n",
    "    si_dict[m]['sie_tot_arc'] = Arctic_SIextent(si_dict[m]['siconc'], si_dict[m]['areacello'])\n",
    "    tas_dict[m]['tas_arc_mean'] = arctic_mean(tas_dict[m], tas_dict[m]['tas'], 70)"
   ]
  },
  {
   "cell_type": "code",
   "execution_count": null,
   "metadata": {},
   "outputs": [],
   "source": [
    "dset_dict['siconc'] = si_dict\n",
    "dset_dict['tas'] = tas_dict"
   ]
  },
  {
   "cell_type": "markdown",
   "metadata": {},
   "source": [
    "#### Calculate climatologies, anomalies, stds of basic variables"
   ]
  },
  {
   "cell_type": "code",
   "execution_count": null,
   "metadata": {},
   "outputs": [],
   "source": [
    "# Calculate climatology, anomalies and stds for variables matching dataset keys\n",
    "\n",
    "# There are some performance warnings from dask. Hopefully not an issue?\n",
    "warnings.filterwarnings('ignore')\n",
    "\n",
    "for d in dset_dict.keys():\n",
    "    if d not in ['areacello', 'areacella']:\n",
    "        for m in models_intersect:\n",
    "\n",
    "            dset_dict[d][m][d + '_clim'] = dset_dict[d][m][d].groupby('time.month').mean(dim='time')\n",
    "            dset_dict[d][m][d + '_anom'] = dset_dict[d][m][d].groupby('time.month') - dset_dict[d][m][d + '_clim']\n",
    "            dset_dict[d][m][d + '_std'] = dset_dict[d][m][d].groupby('time.month').std()\n",
    "            \n",
    "warnings.filterwarnings('default')"
   ]
  },
  {
   "cell_type": "code",
   "execution_count": null,
   "metadata": {},
   "outputs": [],
   "source": [
    "# Possibly want to detrend the data. Repurpose this code if so:\n",
    "#from scipy.signal import detrend\n",
    "#sst_anom_detrended = xr.apply_ufunc(detrend, sst_anom.fillna(0),\n",
    "#                                    kwargs={'axis': 0}).where(~sst_anom.isnull())\n",
    "\n",
    "# Actually more likely to want to filter or remove moving average probably."
   ]
  },
  {
   "cell_type": "markdown",
   "metadata": {},
   "source": [
    "#### Calculate climatologies, anomalies, stds of bulk variables"
   ]
  },
  {
   "cell_type": "code",
   "execution_count": null,
   "metadata": {},
   "outputs": [],
   "source": [
    "# Calculate climatology, anomalies and stds for Arctic sea ice extent and mean Arctic temperature\n",
    "\n",
    "# There are some performance warnings from dask. Hopefully not an issue?\n",
    "warnings.filterwarnings('ignore')\n",
    "\n",
    "# n.b. total anomalies don't add up to exactly zero for sie_tot_arc_anom\n",
    "# this is just a precision thing because xarrays are only 8 sig figs\n",
    "\n",
    "for m in models_intersect:\n",
    "    dset_dict['siconc'][m]['sie_tot_arc_clim'] = dset_dict['siconc'][m]['sie_tot_arc'].groupby('time.month').mean(dim='time')\n",
    "    dset_dict['siconc'][m]['sie_tot_arc_anom'] = dset_dict['siconc'][m]['sie_tot_arc'].groupby('time.month') - dset_dict['siconc'][m]['sie_tot_arc_clim']\n",
    "    \n",
    "    dset_dict['tas'][m]['tas_arc_mean_clim'] = dset_dict['tas'][m]['tas_arc_mean'].groupby('time.month').mean(dim='time')\n",
    "    dset_dict['tas'][m]['tas_arc_mean_anom'] = dset_dict['tas'][m]['tas_arc_mean'].groupby('time.month') -  dset_dict['tas'][m]['tas_arc_mean_clim']        \n",
    "\n",
    "warnings.filterwarnings('default')"
   ]
  },
  {
   "cell_type": "markdown",
   "metadata": {},
   "source": [
    "#### Save"
   ]
  },
  {
   "cell_type": "code",
   "execution_count": null,
   "metadata": {},
   "outputs": [],
   "source": [
    "# Save dictionaries for future use\n",
    "save_flag = True\n",
    "if save_flag:\n",
    "    if dset_dict:\n",
    "        np.save(collection_fname, dset_dict)"
   ]
  },
  {
   "cell_type": "markdown",
   "metadata": {},
   "source": [
    "#### Plots"
   ]
  },
  {
   "cell_type": "code",
   "execution_count": null,
   "metadata": {},
   "outputs": [],
   "source": [
    "# Plot Arctic sea ice extent climatology\n",
    "month_lab = ['Jan','Feb','Mar','Apr','May','June','Jul','Aug','Sept','Oct','Nov','Dec']\n",
    "\n",
    "warnings.filterwarnings('ignore')\n",
    "\n",
    "for m in models_intersect:\n",
    "    dset_dict['siconc'][m]['sie_tot_arc_clim'].isel(member_id=0).plot(label='sie mean')\n",
    "    plt.xticks(np.arange(1,13,1), month_lab)\n",
    "    plt.ylabel('Arctic sea ice extent (m$^{2}$)')\n",
    "    plt.title('All models')\n",
    "    plt.legend(models_intersect)\n",
    "    \n",
    "warnings.filterwarnings('default')"
   ]
  },
  {
   "cell_type": "code",
   "execution_count": null,
   "metadata": {},
   "outputs": [],
   "source": [
    "# Plot Arctic sea ice extent climatology\n",
    "month_lab = ['Jan','Feb','Mar','Apr','May','June','Jul','Aug','Sept','Oct','Nov','Dec']\n",
    "\n",
    "warnings.filterwarnings('ignore')\n",
    "\n",
    "for em in dset_dict['siconc']['CESM2']['member_id'].values:\n",
    "    dset_dict['siconc']['CESM2']['sie_tot_arc_clim'].sel(member_id=em).plot(label='sie mean')\n",
    "    plt.xticks(np.arange(1,13,1), month_lab)\n",
    "    plt.ylabel('Arctic sea ice extent (m$^{2}$)')\n",
    "    plt.title('CESM2 ensemble members')\n",
    "    plt.legend(dset_dict['siconc']['CESM2']['member_id'].values)\n",
    "    \n",
    "warnings.filterwarnings('default')"
   ]
  },
  {
   "cell_type": "code",
   "execution_count": null,
   "metadata": {},
   "outputs": [],
   "source": [
    "# Example of sea ice extent anomaly timeseries\n",
    "dset_dict['siconc']['CESM2']['sie_tot_arc_anom'].isel(member_id=0).plot()\n",
    "plt.xlabel('Time')\n",
    "plt.ylabel('Arctic sea ice extent anom (m$^{2}$)')"
   ]
  },
  {
   "cell_type": "code",
   "execution_count": null,
   "metadata": {},
   "outputs": [],
   "source": [
    "# Plot Arctic temperature climatology\n",
    "month_lab = ['Jan','Feb','Mar','Apr','May','June','Jul','Aug','Sept','Oct','Nov','Dec']\n",
    "\n",
    "warnings.filterwarnings('ignore')\n",
    "\n",
    "for m in models_intersect:\n",
    "    dset_dict['tas'][m]['tas_arc_mean_clim'].isel(member_id=0).plot(label='tas mean')\n",
    "    plt.xticks(np.arange(1,13,1), month_lab)\n",
    "    plt.ylabel('Arctic mean tas (K)')\n",
    "    plt.title('All models')\n",
    "    plt.legend(models_intersect)\n",
    "    \n",
    "warnings.filterwarnings('default')"
   ]
  },
  {
   "cell_type": "code",
   "execution_count": null,
   "metadata": {},
   "outputs": [],
   "source": [
    "# Example of arctic temperature anomaly timeseries\n",
    "dset_dict['tas']['CESM2']['tas_arc_mean_anom'].isel(member_id=0).plot()\n",
    "plt.xlabel('Time')\n",
    "plt.ylabel('Arctic mean tas (K)')"
   ]
  },
  {
   "cell_type": "code",
   "execution_count": null,
   "metadata": {},
   "outputs": [],
   "source": [
    "# Problems:\n",
    "#1. Go home access you're drunk"
   ]
  },
  {
   "cell_type": "code",
   "execution_count": null,
   "metadata": {},
   "outputs": [],
   "source": []
  }
 ],
 "metadata": {
  "kernelspec": {
   "display_name": "Python 3",
   "language": "python",
   "name": "python3"
  },
  "language_info": {
   "codemirror_mode": {
    "name": "ipython",
    "version": 3
   },
   "file_extension": ".py",
   "mimetype": "text/x-python",
   "name": "python",
   "nbconvert_exporter": "python",
   "pygments_lexer": "ipython3",
   "version": "3.7.3"
  }
 },
 "nbformat": 4,
 "nbformat_minor": 4
}
