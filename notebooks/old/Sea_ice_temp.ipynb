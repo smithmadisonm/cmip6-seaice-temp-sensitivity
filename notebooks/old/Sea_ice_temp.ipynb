{
 "cells": [
  {
   "cell_type": "markdown",
   "metadata": {},
   "source": [
    "# CMIP6 Hackathon: Sea ice and temperature sensitivity\n",
    "\n",
    "October 2019  \n",
    "Maddie Smith, Robin Clancy, Katie Brennan, Ed Blanchard-Wrigglesworth  \n"
   ]
  },
  {
   "cell_type": "code",
   "execution_count": 1,
   "metadata": {},
   "outputs": [
    {
     "name": "stderr",
     "output_type": "stream",
     "text": [
      "/srv/conda/envs/notebook/lib/python3.7/site-packages/intake/source/discovery.py:136: FutureWarning: The drivers ['stac-catalog', 'stac-collection', 'stac-item'] do not specify entry_points and were only discovered via a package scan. This may break in a future release of intake. The packages should be updated.\n",
      "  FutureWarning)\n"
     ]
    }
   ],
   "source": [
    "%matplotlib inline\n",
    "\n",
    "import xarray as xr\n",
    "import intake\n",
    "import matplotlib.pyplot as plt\n",
    "import numpy as np\n",
    "\n",
    "# util.py is in the local directory\n",
    "# it contains code that is common across project notebooks\n",
    "# or routines that are too extensive and might otherwise clutter\n",
    "# the notebook design\n",
    "import util\n",
    "import siutils"
   ]
  },
  {
   "cell_type": "code",
   "execution_count": 2,
   "metadata": {},
   "outputs": [],
   "source": [
    "if util.is_ncar_host():\n",
    "    col = intake.open_esm_datastore(\"../catalogs/glade-cmip6.json\")\n",
    "else:\n",
    "    col = intake.open_esm_datastore(\"../catalogs/pangeo-cmip6.json\")\n",
    "#col"
   ]
  },
  {
   "cell_type": "code",
   "execution_count": 3,
   "metadata": {},
   "outputs": [
    {
     "data": {
      "text/plain": [
       "Index(['activity_id', 'institution_id', 'source_id', 'experiment_id',\n",
       "       'member_id', 'table_id', 'variable_id', 'grid_label', 'zstore',\n",
       "       'dcpp_init_year'],\n",
       "      dtype='object')"
      ]
     },
     "execution_count": 3,
     "metadata": {},
     "output_type": "execute_result"
    }
   ],
   "source": [
    "col.df.columns"
   ]
  },
  {
   "cell_type": "code",
   "execution_count": 4,
   "metadata": {},
   "outputs": [],
   "source": [
    "import pprint \n",
    "uni_dict = col.unique(['source_id', 'experiment_id', 'table_id'])\n",
    "#pprint.pprint(uni_dict, compact=True)"
   ]
  },
  {
   "cell_type": "code",
   "execution_count": 5,
   "metadata": {},
   "outputs": [],
   "source": [
    "cat_siconc = col.search(experiment_id=['historical'],table_id='SImon', \n",
    "                        variable_id='siconc', grid_label='gn')"
   ]
  },
  {
   "cell_type": "code",
   "execution_count": 6,
   "metadata": {},
   "outputs": [],
   "source": [
    "cat_cellarea = col.search(experiment_id=['historical'],table_id='Ofx', \n",
    "                          variable_id='areacello', grid_label='gn')"
   ]
  },
  {
   "cell_type": "code",
   "execution_count": 7,
   "metadata": {},
   "outputs": [],
   "source": [
    "cat_tas = col.search(experiment_id=['historical'],table_id='Amon', \n",
    "                          variable_id='tas', grid_label='gn')"
   ]
  },
  {
   "cell_type": "markdown",
   "metadata": {},
   "source": [
    "#### Find variables models that contain certain variables"
   ]
  },
  {
   "cell_type": "code",
   "execution_count": 8,
   "metadata": {},
   "outputs": [],
   "source": [
    "models_intersect = set(uni_dict['source_id']['values']) # all the models\n",
    "table_id = ['SImon','Ofx','Amon']\n",
    "var_list = ['siconc','areacello','tas']\n",
    "exp = 'historical'\n",
    "\n",
    "models_intersect = siutils.find_overlap_models(var_list,exp,table_id,models_intersect,col)"
   ]
  },
  {
   "cell_type": "markdown",
   "metadata": {},
   "source": [
    "### Load data: "
   ]
  },
  {
   "cell_type": "code",
   "execution_count": 9,
   "metadata": {},
   "outputs": [],
   "source": [
    "decode_setting = False"
   ]
  },
  {
   "cell_type": "code",
   "execution_count": 10,
   "metadata": {},
   "outputs": [
    {
     "name": "stdout",
     "output_type": "stream",
     "text": [
      "--> The keys in the returned dictionary of datasets are constructed as follows:\n",
      "\t'activity_id.institution_id.source_id.experiment_id.table_id.grid_label'\n",
      "\n",
      "--> There will be 13 group(s)\n"
     ]
    }
   ],
   "source": [
    "ardset_dict = cat_cellarea.to_dataset_dict(zarr_kwargs={'consolidated': True, \n",
    "                                                        'decode_times': decode_setting},\n",
    "                                           cdf_kwargs={'chunks': {}, 'decode_times': decode_setting})"
   ]
  },
  {
   "cell_type": "code",
   "execution_count": 11,
   "metadata": {},
   "outputs": [
    {
     "name": "stdout",
     "output_type": "stream",
     "text": [
      "--> The keys in the returned dictionary of datasets are constructed as follows:\n",
      "\t'activity_id.institution_id.source_id.experiment_id.table_id.grid_label'\n",
      "\n",
      "--> There will be 18 group(s)\n"
     ]
    }
   ],
   "source": [
    "sidset_dict = cat_siconc.to_dataset_dict(zarr_kwargs={'consolidated': True, \n",
    "                                                      'decode_times': decode_setting}, \n",
    "                                         cdf_kwargs={'chunks': {}, 'decode_times': decode_setting})"
   ]
  },
  {
   "cell_type": "code",
   "execution_count": 12,
   "metadata": {},
   "outputs": [
    {
     "name": "stdout",
     "output_type": "stream",
     "text": [
      "--> The keys in the returned dictionary of datasets are constructed as follows:\n",
      "\t'activity_id.institution_id.source_id.experiment_id.table_id.grid_label'\n",
      "\n",
      "--> There will be 18 group(s)\n"
     ]
    }
   ],
   "source": [
    "tasdset_dict = cat_tas.to_dataset_dict(zarr_kwargs={'consolidated': True, \n",
    "                                                    'decode_times': decode_setting}, \n",
    "                                         cdf_kwargs={'chunks': {}, 'decode_times': decode_setting})"
   ]
  },
  {
   "cell_type": "code",
   "execution_count": 13,
   "metadata": {},
   "outputs": [],
   "source": [
    "amodel_name_dict = {ardset_dict[x].attrs['source_id']: x for x in ardset_dict}\n",
    "smodel_name_dict = {sidset_dict[x].attrs['source_id']: x for x in sidset_dict}\n",
    "tmodel_name_dict = {tasdset_dict[x].attrs['source_id']: x for x in tasdset_dict}"
   ]
  },
  {
   "cell_type": "code",
   "execution_count": 14,
   "metadata": {},
   "outputs": [],
   "source": [
    "si_dicti = {}\n",
    "tas_dict = {}\n",
    "\n",
    "for key, item in sidset_dict.items():\n",
    "    model = item.attrs['source_id']\n",
    "    if model in models_intersect: \n",
    "        si_dicti[model] = item\n",
    "        si_dicti[model]['areacello'] = ardset_dict[amodel_name_dict[model]]['areacello']\n",
    "        tas_dict[model] = tasdset_dict[tmodel_name_dict[model]]"
   ]
  },
  {
   "cell_type": "markdown",
   "metadata": {},
   "source": [
    "### Calculate total Arctic sea ice area: "
   ]
  },
  {
   "cell_type": "code",
   "execution_count": 15,
   "metadata": {},
   "outputs": [],
   "source": [
    "# Rename dimensions so they're all the same: \n",
    "si_dict = {}\n",
    "for m in models_intersect:\n",
    "    si_dict[m] = siutils.rename_dimensions(si_dicti[m],si_dict)"
   ]
  },
  {
   "cell_type": "code",
   "execution_count": 16,
   "metadata": {},
   "outputs": [],
   "source": [
    "# Calculate total area: \n",
    "m=models_intersect[0]\n",
    "si_dict[m]['si_area'] = si_dict[m].areacello*si_dict[m].siconc/100.0\n",
    "si_dict[m]['si_area'].attrs['units'] = si_dict[m].areacello.attrs['units']\n",
    "\n",
    "si_dict[m]['si_area_tot_arc'] = si_dict[m].si_area.where(\n",
    "    si_dict[m].latitude>0).sum(dim=['i','j'])/(1000*1000)\n",
    "si_dict[m]['si_area_tot_arc'].attrs['units'] = 'km2'"
   ]
  },
  {
   "cell_type": "markdown",
   "metadata": {},
   "source": [
    "#### Calculate extent: "
   ]
  },
  {
   "cell_type": "code",
   "execution_count": 32,
   "metadata": {},
   "outputs": [],
   "source": [
    "# *** BUG time dimension doesn't seem to be carried over ***\n",
    "# si_dict[m]['si_extent_test']=si_dict[m].siconc.where((si_dict[m].siconc>15),0)\n",
    "# si_dict[m]['si_extent']=si_dict[m].si_extent_test.where((si_dict[m].si_extent_test<10),1)\n",
    "# si_dict[m]['si_extent_nh']=si_dict[m].si_extent.where((si_dict[m].j>0),0)\n",
    "\n",
    "# si_dict[m]['si_extent_tot_nh'] = (si_dict[m].si_extent_nh*si_dict[m].areacello).sum(dim=['i','j'])/(1000*1000)\n",
    "# si_dict[m]['si_extent_tot_nh'].attrs['units'] = 'km2'"
   ]
  },
  {
   "cell_type": "code",
   "execution_count": 144,
   "metadata": {},
   "outputs": [
    {
     "data": {
      "text/plain": [
       "<xarray.DataArray 'si_extent' (member_id: 3, time: 1980, i: 256, j: 360)>\n",
       "dask.array<where, shape=(3, 1980, 256, 360), dtype=float32, chunksize=(1, 600, 256, 360), chunktype=numpy.ndarray>\n",
       "Coordinates:\n",
       "  * i          (i) float64 -88.0 -85.75 -85.25 -84.75 ... 148.6 150.5 152.4\n",
       "  * j          (j) float64 0.5 1.5 2.5 3.5 4.5 ... 355.5 356.5 357.5 358.5 359.5\n",
       "  * time       (time) datetime64[ns] 1850-01-16T12:00:00 ... 2014-12-16T12:00:00\n",
       "  * member_id  (member_id) <U8 'r1i1p1f2' 'r2i1p1f2' 'r3i1p1f2'\n",
       "Attributes:\n",
       "    cell_measures:   area: areacello\n",
       "    cell_methods:    area: mean where sea time: mean\n",
       "    comment:         Area fraction of grid cell covered by sea ice\n",
       "    long_name:       Sea Ice Area Fraction (Ocean Grid)\n",
       "    original_name:   AIG\n",
       "    original_units:  1\n",
       "    standard_name:   sea_ice_area_fraction\n",
       "    units:           %"
      ]
     },
     "execution_count": 144,
     "metadata": {},
     "output_type": "execute_result"
    }
   ],
   "source": [
    "si_dict[m]['si_extent']"
   ]
  },
  {
   "cell_type": "code",
   "execution_count": 59,
   "metadata": {},
   "outputs": [],
   "source": [
    "si_dict[m]['si_extent_test']=si_dict[m].siconc.where((si_dict[m].siconc>15),0)\n",
    "si_dict[m]['si_extent']=si_dict[m].si_extent_test.where((si_dict[m].si_extent_test<10),1)\n",
    "si_dict[m]['si_extent_nh']=si_dict[m]['si_extent'].isel(i=slice(int(len(si_dict[m].i)/2),\n",
    "                                                                len(si_dict[m].i)))\n",
    "\n",
    "si_dict[m]['si_extent_tot_nh'] = (si_dict[m].si_extent_nh*si_dict[m].areacello).sum(\n",
    "                                    dim=['i','j'])/(1000*1000)\n",
    "si_dict[m]['si_extent_tot_nh'].attrs['units'] = 'km2'"
   ]
  },
  {
   "cell_type": "code",
   "execution_count": 55,
   "metadata": {},
   "outputs": [],
   "source": [
    "#si_dict[m].si_extent_tot_nh.isel(member_id=0).plot()"
   ]
  },
  {
   "cell_type": "markdown",
   "metadata": {},
   "source": [
    "#### Make time coordinate a datetime variable: "
   ]
  },
  {
   "cell_type": "code",
   "execution_count": 60,
   "metadata": {},
   "outputs": [
    {
     "name": "stdout",
     "output_type": "stream",
     "text": [
      "yes\n"
     ]
    }
   ],
   "source": [
    "si_dict[m]['time'] = siutils.time_to_dt(si_dict[m])"
   ]
  },
  {
   "cell_type": "markdown",
   "metadata": {},
   "source": [
    "#### Take mean across years: "
   ]
  },
  {
   "cell_type": "code",
   "execution_count": 61,
   "metadata": {},
   "outputs": [],
   "source": [
    "month_lab = ['Jan','Feb','Mar','Apr','May','June','Jul','Aug','Sept','Oct','Nov','Dec']"
   ]
  },
  {
   "cell_type": "code",
   "execution_count": 63,
   "metadata": {},
   "outputs": [],
   "source": [
    "si_mon = si_dict[m]['si_area_tot_arc']\n",
    "si_mon_mn = si_mon.groupby('time.month').mean('time').isel(member_id=0)\n",
    "si_mon_std = si_mon.groupby('time.month').std().isel(member_id=0)\n",
    "\n",
    "sie_mon = si_dict[m]['si_extent_tot_nh']\n",
    "sie_mon_mn = sie_mon.groupby('time.month').mean('time').isel(member_id=0)"
   ]
  },
  {
   "cell_type": "code",
   "execution_count": 66,
   "metadata": {},
   "outputs": [
    {
     "name": "stderr",
     "output_type": "stream",
     "text": [
      "/srv/conda/envs/notebook/lib/python3.7/site-packages/dask/core.py:119: RuntimeWarning: invalid value encountered in greater\n",
      "  return func(*args2)\n"
     ]
    },
    {
     "data": {
      "text/plain": [
       "<matplotlib.legend.Legend at 0x7fa115300860>"
      ]
     },
     "execution_count": 66,
     "metadata": {},
     "output_type": "execute_result"
    },
    {
     "data": {
      "image/png": "[encoded data removed]",
      "text/plain": [
       "<Figure size 432x288 with 1 Axes>"
      ]
     },
     "metadata": {
      "needs_background": "light"
     },
     "output_type": "display_data"
    }
   ],
   "source": [
    "si_mon_mn.plot(label='sia mean')\n",
    "sie_mon_mn.plot(label='sie mean')\n",
    "#plt.fill_between(si_mon_mn.month,si_mon_mn-2*si_mon_std,si_mon_mn+2*si_mon_std,alpha=0.3)\n",
    "plt.xticks(np.arange(1,13,1), month_lab)\n",
    "plt.ylabel('Arctic sea ice concentration (km$^{2}$)')\n",
    "plt.title('Total Arctic sea ice concentration: '+m)\n",
    "plt.legend()"
   ]
  },
  {
   "cell_type": "code",
   "execution_count": 58,
   "metadata": {},
   "outputs": [
    {
     "data": {
      "text/plain": [
       "<matplotlib.legend.Legend at 0x7f9b2ae5bc88>"
      ]
     },
     "execution_count": 58,
     "metadata": {},
     "output_type": "execute_result"
    },
    {
     "data": {
      "image/png": "[encoded data removed]",
      "text/plain": [
       "<Figure size 432x288 with 1 Axes>"
      ]
     },
     "metadata": {
      "needs_background": "light"
     },
     "output_type": "display_data"
    }
   ],
   "source": [
    "si_month = si_dict[m]['si_area_tot_arc'].isel(member_id=1).values.reshape(165,12)\n",
    "colors = plt.cm.cool(np.linspace(0,1,165))\n",
    "for y in range(0,165,10):\n",
    "    plt.plot(np.arange(1,13,1),si_month[y,:],color=colors[y],label=str(y+1850))\n",
    "plt.xticks(np.arange(1,13,1), month_lab)\n",
    "plt.legend(bbox_to_anchor=(1,1))"
   ]
  },
  {
   "cell_type": "markdown",
   "metadata": {},
   "source": [
    "### Scatter plots: "
   ]
  },
  {
   "cell_type": "code",
   "execution_count": 139,
   "metadata": {},
   "outputs": [],
   "source": [
    "tas_dict[m]['tas_arc_mean'] = arctic_mean(tas_dict[m],tas_dict[m].tas,70)"
   ]
  },
  {
   "cell_type": "code",
   "execution_count": 140,
   "metadata": {},
   "outputs": [],
   "source": [
    "tas = tas_dict[m].tas_arc_mean.isel(member_id=0)\n",
    "sie = si_dict[m]['si_extent_tot_nh'].isel(member_id=0)"
   ]
  },
  {
   "cell_type": "code",
   "execution_count": 142,
   "metadata": {},
   "outputs": [
    {
     "name": "stderr",
     "output_type": "stream",
     "text": [
      "/srv/conda/envs/notebook/lib/python3.7/site-packages/dask/core.py:119: RuntimeWarning: invalid value encountered in greater\n",
      "  return func(*args2)\n",
      "/srv/conda/envs/notebook/lib/python3.7/site-packages/dask/core.py:119: RuntimeWarning: invalid value encountered in greater\n",
      "  return func(*args2)\n",
      "/srv/conda/envs/notebook/lib/python3.7/site-packages/dask/core.py:119: RuntimeWarning: invalid value encountered in greater\n",
      "  return func(*args2)\n",
      "/srv/conda/envs/notebook/lib/python3.7/site-packages/dask/core.py:119: RuntimeWarning: invalid value encountered in greater\n",
      "  return func(*args2)\n",
      "/srv/conda/envs/notebook/lib/python3.7/site-packages/dask/core.py:119: RuntimeWarning: invalid value encountered in greater\n",
      "  return func(*args2)\n"
     ]
    },
    {
     "data": {
      "text/plain": [
       "<matplotlib.collections.PathCollection at 0x7fa1147ceeb8>"
      ]
     },
     "execution_count": 142,
     "metadata": {},
     "output_type": "execute_result"
    },
    {
     "data": {
      "image/png": "[encoded data removed]",
      "text/plain": [
       "<Figure size 432x288 with 1 Axes>"
      ]
     },
     "metadata": {
      "needs_background": "light"
     },
     "output_type": "display_data"
    }
   ],
   "source": [
    "plt.scatter(tas[2::12],sie[2::12])"
   ]
  },
  {
   "cell_type": "code",
   "execution_count": null,
   "metadata": {},
   "outputs": [],
   "source": []
  },
  {
   "cell_type": "code",
   "execution_count": null,
   "metadata": {},
   "outputs": [],
   "source": []
  },
  {
   "cell_type": "code",
   "execution_count": null,
   "metadata": {},
   "outputs": [],
   "source": []
  },
  {
   "cell_type": "code",
   "execution_count": null,
   "metadata": {},
   "outputs": [],
   "source": []
  },
  {
   "cell_type": "code",
   "execution_count": null,
   "metadata": {},
   "outputs": [],
   "source": []
  }
 ],
 "metadata": {
  "kernelspec": {
   "display_name": "Python 3",
   "language": "python",
   "name": "python3"
  },
  "language_info": {
   "codemirror_mode": {
    "name": "ipython",
    "version": 3
   },
   "file_extension": ".py",
   "mimetype": "text/x-python",
   "name": "python",
   "nbconvert_exporter": "python",
   "pygments_lexer": "ipython3",
   "version": "3.7.3"
  }
 },
 "nbformat": 4,
 "nbformat_minor": 4
}
